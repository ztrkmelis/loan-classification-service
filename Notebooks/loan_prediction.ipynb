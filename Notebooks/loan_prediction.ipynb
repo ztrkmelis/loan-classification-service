{
 "cells": [
  {
   "cell_type": "code",
   "execution_count": 1,
   "metadata": {
    "id": "T-l6Spw3U_Jx"
   },
   "outputs": [
    {
     "data": {
      "text/html": [
       "<style type='text/css'>\n",
       ".datatable table.frame { margin-bottom: 0; }\n",
       ".datatable table.frame thead { border-bottom: none; }\n",
       ".datatable table.frame tr.coltypes td {  color: #FFFFFF;  line-height: 6px;  padding: 0 0.5em;}\n",
       ".datatable .bool    { background: #DDDD99; }\n",
       ".datatable .object  { background: #565656; }\n",
       ".datatable .int     { background: #5D9E5D; }\n",
       ".datatable .float   { background: #4040CC; }\n",
       ".datatable .str     { background: #CC4040; }\n",
       ".datatable .time    { background: #40CC40; }\n",
       ".datatable .row_index {  background: var(--jp-border-color3);  border-right: 1px solid var(--jp-border-color0);  color: var(--jp-ui-font-color3);  font-size: 9px;}\n",
       ".datatable .frame tbody td { text-align: left; }\n",
       ".datatable .frame tr.coltypes .row_index {  background: var(--jp-border-color0);}\n",
       ".datatable th:nth-child(2) { padding-left: 12px; }\n",
       ".datatable .hellipsis {  color: var(--jp-cell-editor-border-color);}\n",
       ".datatable .vellipsis {  background: var(--jp-layout-color0);  color: var(--jp-cell-editor-border-color);}\n",
       ".datatable .na {  color: var(--jp-cell-editor-border-color);  font-size: 80%;}\n",
       ".datatable .sp {  opacity: 0.25;}\n",
       ".datatable .footer { font-size: 9px; }\n",
       ".datatable .frame_dimensions {  background: var(--jp-border-color3);  border-top: 1px solid var(--jp-border-color0);  color: var(--jp-ui-font-color3);  display: inline-block;  opacity: 0.6;  padding: 1px 10px 1px 5px;}\n",
       "</style>\n"
      ],
      "text/plain": [
       "<IPython.core.display.HTML object>"
      ]
     },
     "metadata": {},
     "output_type": "display_data"
    }
   ],
   "source": [
    "import pandas as pd\n",
    "import numpy as np\n",
    "from sklearn.model_selection import train_test_split\n",
    "from sklearn.linear_model import LogisticRegression\n",
    "from sklearn.neighbors import KNeighborsClassifier\n",
    "from sklearn.metrics import accuracy_score\n",
    "from sklearn.metrics import confusion_matrix\n",
    "from xgboost import XGBClassifier\n",
    "from sklearn.linear_model import SGDClassifier"
   ]
  },
  {
   "cell_type": "code",
   "execution_count": 38,
   "metadata": {
    "id": "6D7EFVJ7U_J0"
   },
   "outputs": [],
   "source": [
    "data = pd.read_csv(r\"/Users/melisozturk/PycharmProjects/loan_model/loan_approval_dataset_updated.csv\",\n",
    "                   sep=\";\",\n",
    "                   engine='python',\n",
    "                   encoding=\"latin-1\")"
   ]
  },
  {
   "cell_type": "code",
   "execution_count": 39,
   "metadata": {
    "id": "wlNmfsZ2U_J1",
    "outputId": "2f804695-8364-41dc-ce68-8a48d472b8d6"
   },
   "outputs": [
    {
     "data": {
      "text/html": [
       "<div>\n",
       "<style scoped>\n",
       "    .dataframe tbody tr th:only-of-type {\n",
       "        vertical-align: middle;\n",
       "    }\n",
       "\n",
       "    .dataframe tbody tr th {\n",
       "        vertical-align: top;\n",
       "    }\n",
       "\n",
       "    .dataframe thead th {\n",
       "        text-align: right;\n",
       "    }\n",
       "</style>\n",
       "<table border=\"1\" class=\"dataframe\">\n",
       "  <thead>\n",
       "    <tr style=\"text-align: right;\">\n",
       "      <th></th>\n",
       "      <th>loan_id</th>\n",
       "      <th>no_of_dependents</th>\n",
       "      <th>City</th>\n",
       "      <th>education</th>\n",
       "      <th>self_employed</th>\n",
       "      <th>income_annum</th>\n",
       "      <th>loan_amount</th>\n",
       "      <th>loan_term</th>\n",
       "      <th>cibil_score</th>\n",
       "      <th>residential_assets_value</th>\n",
       "      <th>commercial_assets_value</th>\n",
       "      <th>luxury_assets_value</th>\n",
       "      <th>bank_asset_value</th>\n",
       "      <th>loan_status</th>\n",
       "    </tr>\n",
       "  </thead>\n",
       "  <tbody>\n",
       "    <tr>\n",
       "      <th>0</th>\n",
       "      <td>1</td>\n",
       "      <td>2</td>\n",
       "      <td>Ankara</td>\n",
       "      <td>Graduate</td>\n",
       "      <td>No</td>\n",
       "      <td>9600000</td>\n",
       "      <td>29900000</td>\n",
       "      <td>12</td>\n",
       "      <td>778.0</td>\n",
       "      <td>2400000.0</td>\n",
       "      <td>17600000</td>\n",
       "      <td>22700000</td>\n",
       "      <td>8000000</td>\n",
       "      <td>Approved</td>\n",
       "    </tr>\n",
       "    <tr>\n",
       "      <th>1</th>\n",
       "      <td>2</td>\n",
       "      <td>0</td>\n",
       "      <td>Ankara</td>\n",
       "      <td>Not Graduate</td>\n",
       "      <td>Yes</td>\n",
       "      <td>4100000</td>\n",
       "      <td>12200000</td>\n",
       "      <td>8</td>\n",
       "      <td>417.0</td>\n",
       "      <td>2700000.0</td>\n",
       "      <td>2200000</td>\n",
       "      <td>8800000</td>\n",
       "      <td>3300000</td>\n",
       "      <td>Rejected</td>\n",
       "    </tr>\n",
       "    <tr>\n",
       "      <th>2</th>\n",
       "      <td>3</td>\n",
       "      <td>3</td>\n",
       "      <td>Ankara</td>\n",
       "      <td>Graduate</td>\n",
       "      <td>No</td>\n",
       "      <td>9100000</td>\n",
       "      <td>29700000</td>\n",
       "      <td>20</td>\n",
       "      <td>NaN</td>\n",
       "      <td>7100000.0</td>\n",
       "      <td>4500000</td>\n",
       "      <td>33300000</td>\n",
       "      <td>12800000</td>\n",
       "      <td>Rejected</td>\n",
       "    </tr>\n",
       "    <tr>\n",
       "      <th>3</th>\n",
       "      <td>4</td>\n",
       "      <td>3</td>\n",
       "      <td>Ankara</td>\n",
       "      <td>Graduate</td>\n",
       "      <td>No</td>\n",
       "      <td>8200000</td>\n",
       "      <td>30700000</td>\n",
       "      <td>8</td>\n",
       "      <td>NaN</td>\n",
       "      <td>18200000.0</td>\n",
       "      <td>3300000</td>\n",
       "      <td>23300000</td>\n",
       "      <td>7900000</td>\n",
       "      <td>Rejected</td>\n",
       "    </tr>\n",
       "    <tr>\n",
       "      <th>4</th>\n",
       "      <td>5</td>\n",
       "      <td>5</td>\n",
       "      <td>Ankara</td>\n",
       "      <td>Not Graduate</td>\n",
       "      <td>Yes</td>\n",
       "      <td>9800000</td>\n",
       "      <td>24200000</td>\n",
       "      <td>20</td>\n",
       "      <td>NaN</td>\n",
       "      <td>12400000.0</td>\n",
       "      <td>8200000</td>\n",
       "      <td>29400000</td>\n",
       "      <td>5000000</td>\n",
       "      <td>Rejected</td>\n",
       "    </tr>\n",
       "  </tbody>\n",
       "</table>\n",
       "</div>"
      ],
      "text/plain": [
       "   loan_id   no_of_dependents    City      education  self_employed  \\\n",
       "0        1                  2  Ankara       Graduate             No   \n",
       "1        2                  0  Ankara   Not Graduate            Yes   \n",
       "2        3                  3  Ankara       Graduate             No   \n",
       "3        4                  3  Ankara       Graduate             No   \n",
       "4        5                  5  Ankara   Not Graduate            Yes   \n",
       "\n",
       "    income_annum   loan_amount   loan_term   cibil_score  \\\n",
       "0        9600000      29900000          12         778.0   \n",
       "1        4100000      12200000           8         417.0   \n",
       "2        9100000      29700000          20           NaN   \n",
       "3        8200000      30700000           8           NaN   \n",
       "4        9800000      24200000          20           NaN   \n",
       "\n",
       "    residential_assets_value   commercial_assets_value   luxury_assets_value  \\\n",
       "0                  2400000.0                  17600000              22700000   \n",
       "1                  2700000.0                   2200000               8800000   \n",
       "2                  7100000.0                   4500000              33300000   \n",
       "3                 18200000.0                   3300000              23300000   \n",
       "4                 12400000.0                   8200000              29400000   \n",
       "\n",
       "    bank_asset_value  loan_status  \n",
       "0            8000000     Approved  \n",
       "1            3300000     Rejected  \n",
       "2           12800000     Rejected  \n",
       "3            7900000     Rejected  \n",
       "4            5000000     Rejected  "
      ]
     },
     "execution_count": 39,
     "metadata": {},
     "output_type": "execute_result"
    }
   ],
   "source": [
    "data.head()"
   ]
  },
  {
   "cell_type": "code",
   "execution_count": 40,
   "metadata": {
    "id": "UAT-_YajU_J2",
    "outputId": "98683dcf-c0ab-4275-9b1e-9b661878335a"
   },
   "outputs": [
    {
     "data": {
      "text/plain": [
       "(4269, 14)"
      ]
     },
     "execution_count": 40,
     "metadata": {},
     "output_type": "execute_result"
    }
   ],
   "source": [
    "data.shape"
   ]
  },
  {
   "cell_type": "code",
   "execution_count": 41,
   "metadata": {
    "id": "LpTtSp7AU_J2",
    "outputId": "364cdc92-d83b-4cfc-df2e-a6172488d58c"
   },
   "outputs": [
    {
     "data": {
      "text/html": [
       "<div>\n",
       "<style scoped>\n",
       "    .dataframe tbody tr th:only-of-type {\n",
       "        vertical-align: middle;\n",
       "    }\n",
       "\n",
       "    .dataframe tbody tr th {\n",
       "        vertical-align: top;\n",
       "    }\n",
       "\n",
       "    .dataframe thead th {\n",
       "        text-align: right;\n",
       "    }\n",
       "</style>\n",
       "<table border=\"1\" class=\"dataframe\">\n",
       "  <thead>\n",
       "    <tr style=\"text-align: right;\">\n",
       "      <th></th>\n",
       "      <th>City</th>\n",
       "      <th>education</th>\n",
       "      <th>cibil_score</th>\n",
       "      <th>residential_assets_value</th>\n",
       "    </tr>\n",
       "  </thead>\n",
       "  <tbody>\n",
       "    <tr>\n",
       "      <th>0</th>\n",
       "      <td>Ankara</td>\n",
       "      <td>Graduate</td>\n",
       "      <td>778.0</td>\n",
       "      <td>2400000.0</td>\n",
       "    </tr>\n",
       "    <tr>\n",
       "      <th>1</th>\n",
       "      <td>Ankara</td>\n",
       "      <td>Not Graduate</td>\n",
       "      <td>417.0</td>\n",
       "      <td>2700000.0</td>\n",
       "    </tr>\n",
       "    <tr>\n",
       "      <th>2</th>\n",
       "      <td>Ankara</td>\n",
       "      <td>Graduate</td>\n",
       "      <td>NaN</td>\n",
       "      <td>7100000.0</td>\n",
       "    </tr>\n",
       "    <tr>\n",
       "      <th>3</th>\n",
       "      <td>Ankara</td>\n",
       "      <td>Graduate</td>\n",
       "      <td>NaN</td>\n",
       "      <td>18200000.0</td>\n",
       "    </tr>\n",
       "    <tr>\n",
       "      <th>4</th>\n",
       "      <td>Ankara</td>\n",
       "      <td>Not Graduate</td>\n",
       "      <td>NaN</td>\n",
       "      <td>12400000.0</td>\n",
       "    </tr>\n",
       "    <tr>\n",
       "      <th>...</th>\n",
       "      <td>...</td>\n",
       "      <td>...</td>\n",
       "      <td>...</td>\n",
       "      <td>...</td>\n",
       "    </tr>\n",
       "    <tr>\n",
       "      <th>4264</th>\n",
       "      <td>Ýzmir</td>\n",
       "      <td>Graduate</td>\n",
       "      <td>317.0</td>\n",
       "      <td>2800000.0</td>\n",
       "    </tr>\n",
       "    <tr>\n",
       "      <th>4265</th>\n",
       "      <td>Ýzmir</td>\n",
       "      <td>Not Graduate</td>\n",
       "      <td>559.0</td>\n",
       "      <td>4200000.0</td>\n",
       "    </tr>\n",
       "    <tr>\n",
       "      <th>4266</th>\n",
       "      <td>Ýzmir</td>\n",
       "      <td>Not Graduate</td>\n",
       "      <td>457.0</td>\n",
       "      <td>1200000.0</td>\n",
       "    </tr>\n",
       "    <tr>\n",
       "      <th>4267</th>\n",
       "      <td>Ýzmir</td>\n",
       "      <td>Not Graduate</td>\n",
       "      <td>780.0</td>\n",
       "      <td>8200000.0</td>\n",
       "    </tr>\n",
       "    <tr>\n",
       "      <th>4268</th>\n",
       "      <td>Ýzmir</td>\n",
       "      <td>Graduate</td>\n",
       "      <td>607.0</td>\n",
       "      <td>17800000.0</td>\n",
       "    </tr>\n",
       "  </tbody>\n",
       "</table>\n",
       "<p>4269 rows × 4 columns</p>\n",
       "</div>"
      ],
      "text/plain": [
       "        City      education   cibil_score   residential_assets_value\n",
       "0     Ankara       Graduate         778.0                  2400000.0\n",
       "1     Ankara   Not Graduate         417.0                  2700000.0\n",
       "2     Ankara       Graduate           NaN                  7100000.0\n",
       "3     Ankara       Graduate           NaN                 18200000.0\n",
       "4     Ankara   Not Graduate           NaN                 12400000.0\n",
       "...      ...            ...           ...                        ...\n",
       "4264   Ýzmir       Graduate         317.0                  2800000.0\n",
       "4265   Ýzmir   Not Graduate         559.0                  4200000.0\n",
       "4266   Ýzmir   Not Graduate         457.0                  1200000.0\n",
       "4267   Ýzmir   Not Graduate         780.0                  8200000.0\n",
       "4268   Ýzmir       Graduate         607.0                 17800000.0\n",
       "\n",
       "[4269 rows x 4 columns]"
      ]
     },
     "execution_count": 41,
     "metadata": {},
     "output_type": "execute_result"
    }
   ],
   "source": [
    "data.loc[:, data.isna().any()]"
   ]
  },
  {
   "cell_type": "code",
   "execution_count": 42,
   "metadata": {
    "id": "iMm37cT1U_J2",
    "outputId": "1d684550-7853-4fbd-b420-fa097b22224f"
   },
   "outputs": [
    {
     "data": {
      "text/plain": [
       "Index(['loan_id', ' no_of_dependents', 'City', ' education', ' self_employed',\n",
       "       ' income_annum', ' loan_amount', ' loan_term', ' cibil_score',\n",
       "       ' residential_assets_value', ' commercial_assets_value',\n",
       "       ' luxury_assets_value', ' bank_asset_value', ' loan_status'],\n",
       "      dtype='object')"
      ]
     },
     "execution_count": 42,
     "metadata": {},
     "output_type": "execute_result"
    }
   ],
   "source": [
    "data.columns"
   ]
  },
  {
   "cell_type": "code",
   "execution_count": 43,
   "metadata": {
    "id": "jRJLnNh8U_J3"
   },
   "outputs": [],
   "source": [
    "df = data[(data.City.isna() == False) & (data[\" education\"].isna() == False)]"
   ]
  },
  {
   "cell_type": "code",
   "execution_count": 44,
   "metadata": {
    "id": "lcI8Oo9CU_J3"
   },
   "outputs": [],
   "source": [
    "df = df.replace(np.nan, 0)"
   ]
  },
  {
   "cell_type": "code",
   "execution_count": 45,
   "metadata": {
    "id": "dnBWQB19U_J3",
    "outputId": "63cf1315-180a-482d-8d7f-690dddea6d8a"
   },
   "outputs": [
    {
     "data": {
      "text/html": [
       "<div>\n",
       "<style scoped>\n",
       "    .dataframe tbody tr th:only-of-type {\n",
       "        vertical-align: middle;\n",
       "    }\n",
       "\n",
       "    .dataframe tbody tr th {\n",
       "        vertical-align: top;\n",
       "    }\n",
       "\n",
       "    .dataframe thead th {\n",
       "        text-align: right;\n",
       "    }\n",
       "</style>\n",
       "<table border=\"1\" class=\"dataframe\">\n",
       "  <thead>\n",
       "    <tr style=\"text-align: right;\">\n",
       "      <th></th>\n",
       "      <th>loan_id</th>\n",
       "      <th>no_of_dependents</th>\n",
       "      <th>City</th>\n",
       "      <th>education</th>\n",
       "      <th>self_employed</th>\n",
       "      <th>income_annum</th>\n",
       "      <th>loan_amount</th>\n",
       "      <th>loan_term</th>\n",
       "      <th>cibil_score</th>\n",
       "      <th>residential_assets_value</th>\n",
       "      <th>commercial_assets_value</th>\n",
       "      <th>luxury_assets_value</th>\n",
       "      <th>bank_asset_value</th>\n",
       "      <th>loan_status</th>\n",
       "    </tr>\n",
       "  </thead>\n",
       "  <tbody>\n",
       "    <tr>\n",
       "      <th>0</th>\n",
       "      <td>1</td>\n",
       "      <td>2</td>\n",
       "      <td>Ankara</td>\n",
       "      <td>Graduate</td>\n",
       "      <td>No</td>\n",
       "      <td>9600000</td>\n",
       "      <td>29900000</td>\n",
       "      <td>12</td>\n",
       "      <td>778.0</td>\n",
       "      <td>2400000.0</td>\n",
       "      <td>17600000</td>\n",
       "      <td>22700000</td>\n",
       "      <td>8000000</td>\n",
       "      <td>Approved</td>\n",
       "    </tr>\n",
       "    <tr>\n",
       "      <th>1</th>\n",
       "      <td>2</td>\n",
       "      <td>0</td>\n",
       "      <td>Ankara</td>\n",
       "      <td>Not Graduate</td>\n",
       "      <td>Yes</td>\n",
       "      <td>4100000</td>\n",
       "      <td>12200000</td>\n",
       "      <td>8</td>\n",
       "      <td>417.0</td>\n",
       "      <td>2700000.0</td>\n",
       "      <td>2200000</td>\n",
       "      <td>8800000</td>\n",
       "      <td>3300000</td>\n",
       "      <td>Rejected</td>\n",
       "    </tr>\n",
       "    <tr>\n",
       "      <th>2</th>\n",
       "      <td>3</td>\n",
       "      <td>3</td>\n",
       "      <td>Ankara</td>\n",
       "      <td>Graduate</td>\n",
       "      <td>No</td>\n",
       "      <td>9100000</td>\n",
       "      <td>29700000</td>\n",
       "      <td>20</td>\n",
       "      <td>0.0</td>\n",
       "      <td>7100000.0</td>\n",
       "      <td>4500000</td>\n",
       "      <td>33300000</td>\n",
       "      <td>12800000</td>\n",
       "      <td>Rejected</td>\n",
       "    </tr>\n",
       "    <tr>\n",
       "      <th>3</th>\n",
       "      <td>4</td>\n",
       "      <td>3</td>\n",
       "      <td>Ankara</td>\n",
       "      <td>Graduate</td>\n",
       "      <td>No</td>\n",
       "      <td>8200000</td>\n",
       "      <td>30700000</td>\n",
       "      <td>8</td>\n",
       "      <td>0.0</td>\n",
       "      <td>18200000.0</td>\n",
       "      <td>3300000</td>\n",
       "      <td>23300000</td>\n",
       "      <td>7900000</td>\n",
       "      <td>Rejected</td>\n",
       "    </tr>\n",
       "    <tr>\n",
       "      <th>4</th>\n",
       "      <td>5</td>\n",
       "      <td>5</td>\n",
       "      <td>Ankara</td>\n",
       "      <td>Not Graduate</td>\n",
       "      <td>Yes</td>\n",
       "      <td>9800000</td>\n",
       "      <td>24200000</td>\n",
       "      <td>20</td>\n",
       "      <td>0.0</td>\n",
       "      <td>12400000.0</td>\n",
       "      <td>8200000</td>\n",
       "      <td>29400000</td>\n",
       "      <td>5000000</td>\n",
       "      <td>Rejected</td>\n",
       "    </tr>\n",
       "  </tbody>\n",
       "</table>\n",
       "</div>"
      ],
      "text/plain": [
       "   loan_id   no_of_dependents    City      education  self_employed  \\\n",
       "0        1                  2  Ankara       Graduate             No   \n",
       "1        2                  0  Ankara   Not Graduate            Yes   \n",
       "2        3                  3  Ankara       Graduate             No   \n",
       "3        4                  3  Ankara       Graduate             No   \n",
       "4        5                  5  Ankara   Not Graduate            Yes   \n",
       "\n",
       "    income_annum   loan_amount   loan_term   cibil_score  \\\n",
       "0        9600000      29900000          12         778.0   \n",
       "1        4100000      12200000           8         417.0   \n",
       "2        9100000      29700000          20           0.0   \n",
       "3        8200000      30700000           8           0.0   \n",
       "4        9800000      24200000          20           0.0   \n",
       "\n",
       "    residential_assets_value   commercial_assets_value   luxury_assets_value  \\\n",
       "0                  2400000.0                  17600000              22700000   \n",
       "1                  2700000.0                   2200000               8800000   \n",
       "2                  7100000.0                   4500000              33300000   \n",
       "3                 18200000.0                   3300000              23300000   \n",
       "4                 12400000.0                   8200000              29400000   \n",
       "\n",
       "    bank_asset_value  loan_status  \n",
       "0            8000000     Approved  \n",
       "1            3300000     Rejected  \n",
       "2           12800000     Rejected  \n",
       "3            7900000     Rejected  \n",
       "4            5000000     Rejected  "
      ]
     },
     "execution_count": 45,
     "metadata": {},
     "output_type": "execute_result"
    }
   ],
   "source": [
    "df.head()"
   ]
  },
  {
   "cell_type": "code",
   "execution_count": 46,
   "metadata": {
    "id": "oT5-Q5gpU_J4",
    "outputId": "00865975-3059-4b4a-d5c7-34447cea109a"
   },
   "outputs": [
    {
     "data": {
      "text/html": [
       "<div>\n",
       "<style scoped>\n",
       "    .dataframe tbody tr th:only-of-type {\n",
       "        vertical-align: middle;\n",
       "    }\n",
       "\n",
       "    .dataframe tbody tr th {\n",
       "        vertical-align: top;\n",
       "    }\n",
       "\n",
       "    .dataframe thead th {\n",
       "        text-align: right;\n",
       "    }\n",
       "</style>\n",
       "<table border=\"1\" class=\"dataframe\">\n",
       "  <thead>\n",
       "    <tr style=\"text-align: right;\">\n",
       "      <th></th>\n",
       "      <th>loan_id</th>\n",
       "      <th>no_of_dependents</th>\n",
       "      <th>income_annum</th>\n",
       "      <th>loan_amount</th>\n",
       "      <th>loan_term</th>\n",
       "      <th>cibil_score</th>\n",
       "      <th>residential_assets_value</th>\n",
       "      <th>commercial_assets_value</th>\n",
       "      <th>luxury_assets_value</th>\n",
       "      <th>bank_asset_value</th>\n",
       "    </tr>\n",
       "  </thead>\n",
       "  <tbody>\n",
       "    <tr>\n",
       "      <th>count</th>\n",
       "      <td>4028.000000</td>\n",
       "      <td>4028.000000</td>\n",
       "      <td>4.028000e+03</td>\n",
       "      <td>4.028000e+03</td>\n",
       "      <td>4028.000000</td>\n",
       "      <td>4028.000000</td>\n",
       "      <td>4.028000e+03</td>\n",
       "      <td>4.028000e+03</td>\n",
       "      <td>4.028000e+03</td>\n",
       "      <td>4.028000e+03</td>\n",
       "    </tr>\n",
       "    <tr>\n",
       "      <th>mean</th>\n",
       "      <td>2058.624379</td>\n",
       "      <td>2.493049</td>\n",
       "      <td>5.061966e+06</td>\n",
       "      <td>1.513803e+07</td>\n",
       "      <td>10.890765</td>\n",
       "      <td>546.520854</td>\n",
       "      <td>7.283044e+06</td>\n",
       "      <td>4.985228e+06</td>\n",
       "      <td>1.514737e+07</td>\n",
       "      <td>4.982920e+06</td>\n",
       "    </tr>\n",
       "    <tr>\n",
       "      <th>std</th>\n",
       "      <td>1211.678956</td>\n",
       "      <td>1.697718</td>\n",
       "      <td>2.805406e+06</td>\n",
       "      <td>9.043574e+06</td>\n",
       "      <td>5.711288</td>\n",
       "      <td>236.550255</td>\n",
       "      <td>6.553892e+06</td>\n",
       "      <td>4.394239e+06</td>\n",
       "      <td>9.109618e+06</td>\n",
       "      <td>3.249115e+06</td>\n",
       "    </tr>\n",
       "    <tr>\n",
       "      <th>min</th>\n",
       "      <td>1.000000</td>\n",
       "      <td>0.000000</td>\n",
       "      <td>2.000000e+05</td>\n",
       "      <td>3.000000e+05</td>\n",
       "      <td>2.000000</td>\n",
       "      <td>0.000000</td>\n",
       "      <td>-1.000000e+05</td>\n",
       "      <td>0.000000e+00</td>\n",
       "      <td>3.000000e+05</td>\n",
       "      <td>0.000000e+00</td>\n",
       "    </tr>\n",
       "    <tr>\n",
       "      <th>25%</th>\n",
       "      <td>1018.750000</td>\n",
       "      <td>1.000000</td>\n",
       "      <td>2.700000e+06</td>\n",
       "      <td>7.700000e+06</td>\n",
       "      <td>6.000000</td>\n",
       "      <td>407.000000</td>\n",
       "      <td>1.900000e+06</td>\n",
       "      <td>1.400000e+06</td>\n",
       "      <td>7.500000e+06</td>\n",
       "      <td>2.400000e+06</td>\n",
       "    </tr>\n",
       "    <tr>\n",
       "      <th>50%</th>\n",
       "      <td>2032.500000</td>\n",
       "      <td>3.000000</td>\n",
       "      <td>5.100000e+06</td>\n",
       "      <td>1.450000e+07</td>\n",
       "      <td>10.000000</td>\n",
       "      <td>569.000000</td>\n",
       "      <td>5.400000e+06</td>\n",
       "      <td>3.700000e+06</td>\n",
       "      <td>1.460000e+07</td>\n",
       "      <td>4.600000e+06</td>\n",
       "    </tr>\n",
       "    <tr>\n",
       "      <th>75%</th>\n",
       "      <td>3048.250000</td>\n",
       "      <td>4.000000</td>\n",
       "      <td>7.500000e+06</td>\n",
       "      <td>2.140000e+07</td>\n",
       "      <td>16.000000</td>\n",
       "      <td>730.000000</td>\n",
       "      <td>1.112500e+07</td>\n",
       "      <td>7.700000e+06</td>\n",
       "      <td>2.170000e+07</td>\n",
       "      <td>7.100000e+06</td>\n",
       "    </tr>\n",
       "    <tr>\n",
       "      <th>max</th>\n",
       "      <td>4269.000000</td>\n",
       "      <td>5.000000</td>\n",
       "      <td>9.900000e+06</td>\n",
       "      <td>3.950000e+07</td>\n",
       "      <td>20.000000</td>\n",
       "      <td>900.000000</td>\n",
       "      <td>2.910000e+07</td>\n",
       "      <td>1.940000e+07</td>\n",
       "      <td>3.920000e+07</td>\n",
       "      <td>1.470000e+07</td>\n",
       "    </tr>\n",
       "  </tbody>\n",
       "</table>\n",
       "</div>"
      ],
      "text/plain": [
       "           loan_id   no_of_dependents   income_annum   loan_amount  \\\n",
       "count  4028.000000        4028.000000   4.028000e+03  4.028000e+03   \n",
       "mean   2058.624379           2.493049   5.061966e+06  1.513803e+07   \n",
       "std    1211.678956           1.697718   2.805406e+06  9.043574e+06   \n",
       "min       1.000000           0.000000   2.000000e+05  3.000000e+05   \n",
       "25%    1018.750000           1.000000   2.700000e+06  7.700000e+06   \n",
       "50%    2032.500000           3.000000   5.100000e+06  1.450000e+07   \n",
       "75%    3048.250000           4.000000   7.500000e+06  2.140000e+07   \n",
       "max    4269.000000           5.000000   9.900000e+06  3.950000e+07   \n",
       "\n",
       "         loan_term   cibil_score   residential_assets_value  \\\n",
       "count  4028.000000   4028.000000               4.028000e+03   \n",
       "mean     10.890765    546.520854               7.283044e+06   \n",
       "std       5.711288    236.550255               6.553892e+06   \n",
       "min       2.000000      0.000000              -1.000000e+05   \n",
       "25%       6.000000    407.000000               1.900000e+06   \n",
       "50%      10.000000    569.000000               5.400000e+06   \n",
       "75%      16.000000    730.000000               1.112500e+07   \n",
       "max      20.000000    900.000000               2.910000e+07   \n",
       "\n",
       "        commercial_assets_value   luxury_assets_value   bank_asset_value  \n",
       "count              4.028000e+03          4.028000e+03       4.028000e+03  \n",
       "mean               4.985228e+06          1.514737e+07       4.982920e+06  \n",
       "std                4.394239e+06          9.109618e+06       3.249115e+06  \n",
       "min                0.000000e+00          3.000000e+05       0.000000e+00  \n",
       "25%                1.400000e+06          7.500000e+06       2.400000e+06  \n",
       "50%                3.700000e+06          1.460000e+07       4.600000e+06  \n",
       "75%                7.700000e+06          2.170000e+07       7.100000e+06  \n",
       "max                1.940000e+07          3.920000e+07       1.470000e+07  "
      ]
     },
     "execution_count": 46,
     "metadata": {},
     "output_type": "execute_result"
    }
   ],
   "source": [
    "df.describe()"
   ]
  },
  {
   "cell_type": "code",
   "execution_count": 47,
   "metadata": {
    "id": "TemJ_qGpU_J4"
   },
   "outputs": [],
   "source": [
    "from sklearn.preprocessing import MinMaxScaler, StandardScaler\n",
    "\n",
    "def column_scaler(column_name, df_):\n",
    "    scaler = StandardScaler()\n",
    "    return scaler.fit_transform(df_[[column_name]])\n"
   ]
  },
  {
   "cell_type": "code",
   "execution_count": 48,
   "metadata": {
    "id": "gGfm7OZ0U_J4",
    "outputId": "4ff0b4e2-aae7-496f-894f-0582e0f408a8"
   },
   "outputs": [
    {
     "data": {
      "text/plain": [
       "Index(['loan_id', ' no_of_dependents', 'City', ' education', ' self_employed',\n",
       "       ' income_annum', ' loan_amount', ' loan_term', ' cibil_score',\n",
       "       ' residential_assets_value', ' commercial_assets_value',\n",
       "       ' luxury_assets_value', ' bank_asset_value', ' loan_status'],\n",
       "      dtype='object')"
      ]
     },
     "execution_count": 48,
     "metadata": {},
     "output_type": "execute_result"
    }
   ],
   "source": [
    "df.columns"
   ]
  },
  {
   "cell_type": "code",
   "execution_count": 49,
   "metadata": {
    "id": "sr1ZlwJzU_J4"
   },
   "outputs": [],
   "source": [
    "df.columns = [x.strip() for x in df.columns]\n",
    "df.columns = [x.lower() for x in df.columns]"
   ]
  },
  {
   "cell_type": "code",
   "execution_count": 50,
   "metadata": {
    "id": "cXXngcD-U_J4"
   },
   "outputs": [],
   "source": [
    "numeric_columns = [\"no_of_dependents\", \"income_annum\", \"loan_amount\", \"cibil_score\", \"residential_assets_value\",\n",
    "                  \"commercial_assets_value\", \"luxury_assets_value\", \"bank_asset_value\"]"
   ]
  },
  {
   "cell_type": "code",
   "execution_count": 51,
   "metadata": {
    "id": "R_6rxTKcU_J5"
   },
   "outputs": [],
   "source": [
    "for num_col in numeric_columns:\n",
    "    df[num_col] = column_scaler(column_name=num_col, df_=df)"
   ]
  },
  {
   "cell_type": "code",
   "execution_count": 52,
   "metadata": {
    "id": "CzVnInnsU_J5"
   },
   "outputs": [],
   "source": [
    "# # categorical columns\n",
    "# df['City'] = df['City'].astype('category')\n",
    "# df['education'] = df['education'].astype('category')\n",
    "# df['self_employed'] = df['self_employed'].astype('category')\n",
    "# cat_columns = df.select_dtypes(['category']).columns\n",
    "# df[cat_columns] = df[cat_columns].apply(lambda x: x.cat.codes)"
   ]
  },
  {
   "cell_type": "code",
   "execution_count": 53,
   "metadata": {
    "id": "lbYmFQsgU_J5"
   },
   "outputs": [],
   "source": [
    "df = pd.get_dummies(df, columns=['city'])\n",
    "df = pd.get_dummies(df, columns=['education'])\n",
    "df = pd.get_dummies(df, columns=['self_employed'])"
   ]
  },
  {
   "cell_type": "code",
   "execution_count": 54,
   "metadata": {
    "id": "cdHT8ZE6U_J5",
    "outputId": "312463a4-96b5-4754-c8ec-5f3c5066b976"
   },
   "outputs": [
    {
     "data": {
      "text/html": [
       "<div>\n",
       "<style scoped>\n",
       "    .dataframe tbody tr th:only-of-type {\n",
       "        vertical-align: middle;\n",
       "    }\n",
       "\n",
       "    .dataframe tbody tr th {\n",
       "        vertical-align: top;\n",
       "    }\n",
       "\n",
       "    .dataframe thead th {\n",
       "        text-align: right;\n",
       "    }\n",
       "</style>\n",
       "<table border=\"1\" class=\"dataframe\">\n",
       "  <thead>\n",
       "    <tr style=\"text-align: right;\">\n",
       "      <th></th>\n",
       "      <th>loan_id</th>\n",
       "      <th>no_of_dependents</th>\n",
       "      <th>income_annum</th>\n",
       "      <th>loan_amount</th>\n",
       "      <th>loan_term</th>\n",
       "      <th>cibil_score</th>\n",
       "      <th>residential_assets_value</th>\n",
       "      <th>commercial_assets_value</th>\n",
       "      <th>luxury_assets_value</th>\n",
       "      <th>bank_asset_value</th>\n",
       "      <th>loan_status</th>\n",
       "      <th>city_Ankara</th>\n",
       "      <th>city_Bursa</th>\n",
       "      <th>city_Erzurum</th>\n",
       "      <th>city_Ýstanbul</th>\n",
       "      <th>city_Ýzmir</th>\n",
       "      <th>education_ Graduate</th>\n",
       "      <th>education_ Not Graduate</th>\n",
       "      <th>self_employed_ No</th>\n",
       "      <th>self_employed_ Yes</th>\n",
       "    </tr>\n",
       "  </thead>\n",
       "  <tbody>\n",
       "    <tr>\n",
       "      <th>0</th>\n",
       "      <td>1</td>\n",
       "      <td>-0.290455</td>\n",
       "      <td>1.617804</td>\n",
       "      <td>1.632518</td>\n",
       "      <td>12</td>\n",
       "      <td>0.978684</td>\n",
       "      <td>-0.745153</td>\n",
       "      <td>2.871109</td>\n",
       "      <td>0.829186</td>\n",
       "      <td>0.928701</td>\n",
       "      <td>Approved</td>\n",
       "      <td>1</td>\n",
       "      <td>0</td>\n",
       "      <td>0</td>\n",
       "      <td>0</td>\n",
       "      <td>0</td>\n",
       "      <td>1</td>\n",
       "      <td>0</td>\n",
       "      <td>1</td>\n",
       "      <td>0</td>\n",
       "    </tr>\n",
       "    <tr>\n",
       "      <th>1</th>\n",
       "      <td>2</td>\n",
       "      <td>-1.468653</td>\n",
       "      <td>-0.342940</td>\n",
       "      <td>-0.324916</td>\n",
       "      <td>8</td>\n",
       "      <td>-0.547609</td>\n",
       "      <td>-0.699373</td>\n",
       "      <td>-0.633915</td>\n",
       "      <td>-0.696863</td>\n",
       "      <td>-0.518027</td>\n",
       "      <td>Rejected</td>\n",
       "      <td>1</td>\n",
       "      <td>0</td>\n",
       "      <td>0</td>\n",
       "      <td>0</td>\n",
       "      <td>0</td>\n",
       "      <td>0</td>\n",
       "      <td>1</td>\n",
       "      <td>0</td>\n",
       "      <td>1</td>\n",
       "    </tr>\n",
       "    <tr>\n",
       "      <th>2</th>\n",
       "      <td>3</td>\n",
       "      <td>0.298645</td>\n",
       "      <td>1.439555</td>\n",
       "      <td>1.610400</td>\n",
       "      <td>20</td>\n",
       "      <td>-2.310666</td>\n",
       "      <td>-0.027932</td>\n",
       "      <td>-0.110437</td>\n",
       "      <td>1.992936</td>\n",
       "      <td>2.406209</td>\n",
       "      <td>Rejected</td>\n",
       "      <td>1</td>\n",
       "      <td>0</td>\n",
       "      <td>0</td>\n",
       "      <td>0</td>\n",
       "      <td>0</td>\n",
       "      <td>1</td>\n",
       "      <td>0</td>\n",
       "      <td>1</td>\n",
       "      <td>0</td>\n",
       "    </tr>\n",
       "    <tr>\n",
       "      <th>3</th>\n",
       "      <td>4</td>\n",
       "      <td>0.298645</td>\n",
       "      <td>1.118706</td>\n",
       "      <td>1.720990</td>\n",
       "      <td>8</td>\n",
       "      <td>-2.310666</td>\n",
       "      <td>1.665928</td>\n",
       "      <td>-0.383556</td>\n",
       "      <td>0.895059</td>\n",
       "      <td>0.897919</td>\n",
       "      <td>Rejected</td>\n",
       "      <td>1</td>\n",
       "      <td>0</td>\n",
       "      <td>0</td>\n",
       "      <td>0</td>\n",
       "      <td>0</td>\n",
       "      <td>1</td>\n",
       "      <td>0</td>\n",
       "      <td>1</td>\n",
       "      <td>0</td>\n",
       "    </tr>\n",
       "    <tr>\n",
       "      <th>4</th>\n",
       "      <td>5</td>\n",
       "      <td>1.476843</td>\n",
       "      <td>1.689104</td>\n",
       "      <td>1.002158</td>\n",
       "      <td>20</td>\n",
       "      <td>-2.310666</td>\n",
       "      <td>0.780848</td>\n",
       "      <td>0.731679</td>\n",
       "      <td>1.564764</td>\n",
       "      <td>0.005258</td>\n",
       "      <td>Rejected</td>\n",
       "      <td>1</td>\n",
       "      <td>0</td>\n",
       "      <td>0</td>\n",
       "      <td>0</td>\n",
       "      <td>0</td>\n",
       "      <td>0</td>\n",
       "      <td>1</td>\n",
       "      <td>0</td>\n",
       "      <td>1</td>\n",
       "    </tr>\n",
       "  </tbody>\n",
       "</table>\n",
       "</div>"
      ],
      "text/plain": [
       "   loan_id  no_of_dependents  income_annum  loan_amount  loan_term  \\\n",
       "0        1         -0.290455      1.617804     1.632518         12   \n",
       "1        2         -1.468653     -0.342940    -0.324916          8   \n",
       "2        3          0.298645      1.439555     1.610400         20   \n",
       "3        4          0.298645      1.118706     1.720990          8   \n",
       "4        5          1.476843      1.689104     1.002158         20   \n",
       "\n",
       "   cibil_score  residential_assets_value  commercial_assets_value  \\\n",
       "0     0.978684                 -0.745153                 2.871109   \n",
       "1    -0.547609                 -0.699373                -0.633915   \n",
       "2    -2.310666                 -0.027932                -0.110437   \n",
       "3    -2.310666                  1.665928                -0.383556   \n",
       "4    -2.310666                  0.780848                 0.731679   \n",
       "\n",
       "   luxury_assets_value  bank_asset_value loan_status  city_Ankara  city_Bursa  \\\n",
       "0             0.829186          0.928701    Approved            1           0   \n",
       "1            -0.696863         -0.518027    Rejected            1           0   \n",
       "2             1.992936          2.406209    Rejected            1           0   \n",
       "3             0.895059          0.897919    Rejected            1           0   \n",
       "4             1.564764          0.005258    Rejected            1           0   \n",
       "\n",
       "   city_Erzurum  city_Ýstanbul  city_Ýzmir  education_ Graduate  \\\n",
       "0             0              0           0                    1   \n",
       "1             0              0           0                    0   \n",
       "2             0              0           0                    1   \n",
       "3             0              0           0                    1   \n",
       "4             0              0           0                    0   \n",
       "\n",
       "   education_ Not Graduate  self_employed_ No  self_employed_ Yes  \n",
       "0                        0                  1                   0  \n",
       "1                        1                  0                   1  \n",
       "2                        0                  1                   0  \n",
       "3                        0                  1                   0  \n",
       "4                        1                  0                   1  "
      ]
     },
     "execution_count": 54,
     "metadata": {},
     "output_type": "execute_result"
    }
   ],
   "source": [
    "df.head()"
   ]
  },
  {
   "cell_type": "code",
   "execution_count": 55,
   "metadata": {
    "id": "Y0g1zWBDU_J5"
   },
   "outputs": [],
   "source": [
    "df.columns =  [\"_\".join(x.lower().split(\" \")).replace(\"ý\", \"i\") for x in df.columns]"
   ]
  },
  {
   "cell_type": "code",
   "execution_count": 56,
   "metadata": {
    "id": "AaQaKWZZU_J5"
   },
   "outputs": [],
   "source": [
    "df['loan_status'] = df['loan_status'].astype('category')\n",
    "cat_columns = df.select_dtypes(['category']).columns\n",
    "df[cat_columns] = df[cat_columns].apply(lambda x: x.cat.codes)"
   ]
  },
  {
   "cell_type": "code",
   "execution_count": 57,
   "metadata": {
    "id": "gC_J2fBwU_J5",
    "outputId": "6068960b-a6db-4fed-da39-d14ed8d41b5f"
   },
   "outputs": [
    {
     "data": {
      "text/html": [
       "<div>\n",
       "<style scoped>\n",
       "    .dataframe tbody tr th:only-of-type {\n",
       "        vertical-align: middle;\n",
       "    }\n",
       "\n",
       "    .dataframe tbody tr th {\n",
       "        vertical-align: top;\n",
       "    }\n",
       "\n",
       "    .dataframe thead th {\n",
       "        text-align: right;\n",
       "    }\n",
       "</style>\n",
       "<table border=\"1\" class=\"dataframe\">\n",
       "  <thead>\n",
       "    <tr style=\"text-align: right;\">\n",
       "      <th></th>\n",
       "      <th>loan_id</th>\n",
       "      <th>no_of_dependents</th>\n",
       "      <th>income_annum</th>\n",
       "      <th>loan_amount</th>\n",
       "      <th>loan_term</th>\n",
       "      <th>cibil_score</th>\n",
       "      <th>residential_assets_value</th>\n",
       "      <th>commercial_assets_value</th>\n",
       "      <th>luxury_assets_value</th>\n",
       "      <th>bank_asset_value</th>\n",
       "      <th>loan_status</th>\n",
       "      <th>city_ankara</th>\n",
       "      <th>city_bursa</th>\n",
       "      <th>city_erzurum</th>\n",
       "      <th>city_istanbul</th>\n",
       "      <th>city_izmir</th>\n",
       "      <th>education__graduate</th>\n",
       "      <th>education__not_graduate</th>\n",
       "      <th>self_employed__no</th>\n",
       "      <th>self_employed__yes</th>\n",
       "    </tr>\n",
       "  </thead>\n",
       "  <tbody>\n",
       "    <tr>\n",
       "      <th>0</th>\n",
       "      <td>1</td>\n",
       "      <td>-0.290455</td>\n",
       "      <td>1.617804</td>\n",
       "      <td>1.632518</td>\n",
       "      <td>12</td>\n",
       "      <td>0.978684</td>\n",
       "      <td>-0.745153</td>\n",
       "      <td>2.871109</td>\n",
       "      <td>0.829186</td>\n",
       "      <td>0.928701</td>\n",
       "      <td>0</td>\n",
       "      <td>1</td>\n",
       "      <td>0</td>\n",
       "      <td>0</td>\n",
       "      <td>0</td>\n",
       "      <td>0</td>\n",
       "      <td>1</td>\n",
       "      <td>0</td>\n",
       "      <td>1</td>\n",
       "      <td>0</td>\n",
       "    </tr>\n",
       "    <tr>\n",
       "      <th>1</th>\n",
       "      <td>2</td>\n",
       "      <td>-1.468653</td>\n",
       "      <td>-0.342940</td>\n",
       "      <td>-0.324916</td>\n",
       "      <td>8</td>\n",
       "      <td>-0.547609</td>\n",
       "      <td>-0.699373</td>\n",
       "      <td>-0.633915</td>\n",
       "      <td>-0.696863</td>\n",
       "      <td>-0.518027</td>\n",
       "      <td>1</td>\n",
       "      <td>1</td>\n",
       "      <td>0</td>\n",
       "      <td>0</td>\n",
       "      <td>0</td>\n",
       "      <td>0</td>\n",
       "      <td>0</td>\n",
       "      <td>1</td>\n",
       "      <td>0</td>\n",
       "      <td>1</td>\n",
       "    </tr>\n",
       "    <tr>\n",
       "      <th>2</th>\n",
       "      <td>3</td>\n",
       "      <td>0.298645</td>\n",
       "      <td>1.439555</td>\n",
       "      <td>1.610400</td>\n",
       "      <td>20</td>\n",
       "      <td>-2.310666</td>\n",
       "      <td>-0.027932</td>\n",
       "      <td>-0.110437</td>\n",
       "      <td>1.992936</td>\n",
       "      <td>2.406209</td>\n",
       "      <td>1</td>\n",
       "      <td>1</td>\n",
       "      <td>0</td>\n",
       "      <td>0</td>\n",
       "      <td>0</td>\n",
       "      <td>0</td>\n",
       "      <td>1</td>\n",
       "      <td>0</td>\n",
       "      <td>1</td>\n",
       "      <td>0</td>\n",
       "    </tr>\n",
       "    <tr>\n",
       "      <th>3</th>\n",
       "      <td>4</td>\n",
       "      <td>0.298645</td>\n",
       "      <td>1.118706</td>\n",
       "      <td>1.720990</td>\n",
       "      <td>8</td>\n",
       "      <td>-2.310666</td>\n",
       "      <td>1.665928</td>\n",
       "      <td>-0.383556</td>\n",
       "      <td>0.895059</td>\n",
       "      <td>0.897919</td>\n",
       "      <td>1</td>\n",
       "      <td>1</td>\n",
       "      <td>0</td>\n",
       "      <td>0</td>\n",
       "      <td>0</td>\n",
       "      <td>0</td>\n",
       "      <td>1</td>\n",
       "      <td>0</td>\n",
       "      <td>1</td>\n",
       "      <td>0</td>\n",
       "    </tr>\n",
       "    <tr>\n",
       "      <th>4</th>\n",
       "      <td>5</td>\n",
       "      <td>1.476843</td>\n",
       "      <td>1.689104</td>\n",
       "      <td>1.002158</td>\n",
       "      <td>20</td>\n",
       "      <td>-2.310666</td>\n",
       "      <td>0.780848</td>\n",
       "      <td>0.731679</td>\n",
       "      <td>1.564764</td>\n",
       "      <td>0.005258</td>\n",
       "      <td>1</td>\n",
       "      <td>1</td>\n",
       "      <td>0</td>\n",
       "      <td>0</td>\n",
       "      <td>0</td>\n",
       "      <td>0</td>\n",
       "      <td>0</td>\n",
       "      <td>1</td>\n",
       "      <td>0</td>\n",
       "      <td>1</td>\n",
       "    </tr>\n",
       "    <tr>\n",
       "      <th>...</th>\n",
       "      <td>...</td>\n",
       "      <td>...</td>\n",
       "      <td>...</td>\n",
       "      <td>...</td>\n",
       "      <td>...</td>\n",
       "      <td>...</td>\n",
       "      <td>...</td>\n",
       "      <td>...</td>\n",
       "      <td>...</td>\n",
       "      <td>...</td>\n",
       "      <td>...</td>\n",
       "      <td>...</td>\n",
       "      <td>...</td>\n",
       "      <td>...</td>\n",
       "      <td>...</td>\n",
       "      <td>...</td>\n",
       "      <td>...</td>\n",
       "      <td>...</td>\n",
       "      <td>...</td>\n",
       "      <td>...</td>\n",
       "    </tr>\n",
       "    <tr>\n",
       "      <th>4264</th>\n",
       "      <td>4265</td>\n",
       "      <td>1.476843</td>\n",
       "      <td>-1.448086</td>\n",
       "      <td>-1.419752</td>\n",
       "      <td>12</td>\n",
       "      <td>-0.970404</td>\n",
       "      <td>-0.684113</td>\n",
       "      <td>-1.020833</td>\n",
       "      <td>-1.300696</td>\n",
       "      <td>-1.287563</td>\n",
       "      <td>1</td>\n",
       "      <td>0</td>\n",
       "      <td>0</td>\n",
       "      <td>0</td>\n",
       "      <td>0</td>\n",
       "      <td>1</td>\n",
       "      <td>1</td>\n",
       "      <td>0</td>\n",
       "      <td>0</td>\n",
       "      <td>1</td>\n",
       "    </tr>\n",
       "    <tr>\n",
       "      <th>4265</th>\n",
       "      <td>4266</td>\n",
       "      <td>-1.468653</td>\n",
       "      <td>-0.628139</td>\n",
       "      <td>-0.424446</td>\n",
       "      <td>20</td>\n",
       "      <td>0.052761</td>\n",
       "      <td>-0.470473</td>\n",
       "      <td>-0.474596</td>\n",
       "      <td>-0.455330</td>\n",
       "      <td>-0.948967</td>\n",
       "      <td>0</td>\n",
       "      <td>0</td>\n",
       "      <td>0</td>\n",
       "      <td>0</td>\n",
       "      <td>0</td>\n",
       "      <td>1</td>\n",
       "      <td>0</td>\n",
       "      <td>1</td>\n",
       "      <td>0</td>\n",
       "      <td>1</td>\n",
       "    </tr>\n",
       "    <tr>\n",
       "      <th>4266</th>\n",
       "      <td>4267</td>\n",
       "      <td>-0.290455</td>\n",
       "      <td>0.512657</td>\n",
       "      <td>0.968981</td>\n",
       "      <td>18</td>\n",
       "      <td>-0.378490</td>\n",
       "      <td>-0.928273</td>\n",
       "      <td>1.687594</td>\n",
       "      <td>0.324163</td>\n",
       "      <td>0.713231</td>\n",
       "      <td>1</td>\n",
       "      <td>0</td>\n",
       "      <td>0</td>\n",
       "      <td>0</td>\n",
       "      <td>0</td>\n",
       "      <td>1</td>\n",
       "      <td>0</td>\n",
       "      <td>1</td>\n",
       "      <td>1</td>\n",
       "      <td>0</td>\n",
       "    </tr>\n",
       "    <tr>\n",
       "      <th>4267</th>\n",
       "      <td>4268</td>\n",
       "      <td>-0.879554</td>\n",
       "      <td>-0.342940</td>\n",
       "      <td>-0.258562</td>\n",
       "      <td>8</td>\n",
       "      <td>0.987140</td>\n",
       "      <td>0.139928</td>\n",
       "      <td>-0.975313</td>\n",
       "      <td>-0.114988</td>\n",
       "      <td>0.251509</td>\n",
       "      <td>0</td>\n",
       "      <td>0</td>\n",
       "      <td>0</td>\n",
       "      <td>0</td>\n",
       "      <td>0</td>\n",
       "      <td>1</td>\n",
       "      <td>0</td>\n",
       "      <td>1</td>\n",
       "      <td>1</td>\n",
       "      <td>0</td>\n",
       "    </tr>\n",
       "    <tr>\n",
       "      <th>4268</th>\n",
       "      <td>4269</td>\n",
       "      <td>-0.879554</td>\n",
       "      <td>1.475204</td>\n",
       "      <td>1.610400</td>\n",
       "      <td>10</td>\n",
       "      <td>0.255703</td>\n",
       "      <td>1.604888</td>\n",
       "      <td>1.551035</td>\n",
       "      <td>2.256427</td>\n",
       "      <td>2.159958</td>\n",
       "      <td>0</td>\n",
       "      <td>0</td>\n",
       "      <td>0</td>\n",
       "      <td>0</td>\n",
       "      <td>0</td>\n",
       "      <td>1</td>\n",
       "      <td>1</td>\n",
       "      <td>0</td>\n",
       "      <td>1</td>\n",
       "      <td>0</td>\n",
       "    </tr>\n",
       "  </tbody>\n",
       "</table>\n",
       "<p>4028 rows × 20 columns</p>\n",
       "</div>"
      ],
      "text/plain": [
       "      loan_id  no_of_dependents  income_annum  loan_amount  loan_term  \\\n",
       "0           1         -0.290455      1.617804     1.632518         12   \n",
       "1           2         -1.468653     -0.342940    -0.324916          8   \n",
       "2           3          0.298645      1.439555     1.610400         20   \n",
       "3           4          0.298645      1.118706     1.720990          8   \n",
       "4           5          1.476843      1.689104     1.002158         20   \n",
       "...       ...               ...           ...          ...        ...   \n",
       "4264     4265          1.476843     -1.448086    -1.419752         12   \n",
       "4265     4266         -1.468653     -0.628139    -0.424446         20   \n",
       "4266     4267         -0.290455      0.512657     0.968981         18   \n",
       "4267     4268         -0.879554     -0.342940    -0.258562          8   \n",
       "4268     4269         -0.879554      1.475204     1.610400         10   \n",
       "\n",
       "      cibil_score  residential_assets_value  commercial_assets_value  \\\n",
       "0        0.978684                 -0.745153                 2.871109   \n",
       "1       -0.547609                 -0.699373                -0.633915   \n",
       "2       -2.310666                 -0.027932                -0.110437   \n",
       "3       -2.310666                  1.665928                -0.383556   \n",
       "4       -2.310666                  0.780848                 0.731679   \n",
       "...           ...                       ...                      ...   \n",
       "4264    -0.970404                 -0.684113                -1.020833   \n",
       "4265     0.052761                 -0.470473                -0.474596   \n",
       "4266    -0.378490                 -0.928273                 1.687594   \n",
       "4267     0.987140                  0.139928                -0.975313   \n",
       "4268     0.255703                  1.604888                 1.551035   \n",
       "\n",
       "      luxury_assets_value  bank_asset_value  loan_status  city_ankara  \\\n",
       "0                0.829186          0.928701            0            1   \n",
       "1               -0.696863         -0.518027            1            1   \n",
       "2                1.992936          2.406209            1            1   \n",
       "3                0.895059          0.897919            1            1   \n",
       "4                1.564764          0.005258            1            1   \n",
       "...                   ...               ...          ...          ...   \n",
       "4264            -1.300696         -1.287563            1            0   \n",
       "4265            -0.455330         -0.948967            0            0   \n",
       "4266             0.324163          0.713231            1            0   \n",
       "4267            -0.114988          0.251509            0            0   \n",
       "4268             2.256427          2.159958            0            0   \n",
       "\n",
       "      city_bursa  city_erzurum  city_istanbul  city_izmir  \\\n",
       "0              0             0              0           0   \n",
       "1              0             0              0           0   \n",
       "2              0             0              0           0   \n",
       "3              0             0              0           0   \n",
       "4              0             0              0           0   \n",
       "...          ...           ...            ...         ...   \n",
       "4264           0             0              0           1   \n",
       "4265           0             0              0           1   \n",
       "4266           0             0              0           1   \n",
       "4267           0             0              0           1   \n",
       "4268           0             0              0           1   \n",
       "\n",
       "      education__graduate  education__not_graduate  self_employed__no  \\\n",
       "0                       1                        0                  1   \n",
       "1                       0                        1                  0   \n",
       "2                       1                        0                  1   \n",
       "3                       1                        0                  1   \n",
       "4                       0                        1                  0   \n",
       "...                   ...                      ...                ...   \n",
       "4264                    1                        0                  0   \n",
       "4265                    0                        1                  0   \n",
       "4266                    0                        1                  1   \n",
       "4267                    0                        1                  1   \n",
       "4268                    1                        0                  1   \n",
       "\n",
       "      self_employed__yes  \n",
       "0                      0  \n",
       "1                      1  \n",
       "2                      0  \n",
       "3                      0  \n",
       "4                      1  \n",
       "...                  ...  \n",
       "4264                   1  \n",
       "4265                   1  \n",
       "4266                   0  \n",
       "4267                   0  \n",
       "4268                   0  \n",
       "\n",
       "[4028 rows x 20 columns]"
      ]
     },
     "execution_count": 57,
     "metadata": {},
     "output_type": "execute_result"
    }
   ],
   "source": [
    "df"
   ]
  },
  {
   "cell_type": "code",
   "execution_count": 58,
   "metadata": {
    "id": "TwvJ3UveU_J6"
   },
   "outputs": [],
   "source": [
    "y = df['loan_status']\n",
    "X = df.drop(['loan_status', \"loan_id\"],axis=1)"
   ]
  },
  {
   "cell_type": "code",
   "execution_count": 59,
   "metadata": {},
   "outputs": [
    {
     "data": {
      "text/plain": [
       "Index(['no_of_dependents', 'income_annum', 'loan_amount', 'loan_term',\n",
       "       'cibil_score', 'residential_assets_value', 'commercial_assets_value',\n",
       "       'luxury_assets_value', 'bank_asset_value', 'city_ankara', 'city_bursa',\n",
       "       'city_erzurum', 'city_istanbul', 'city_izmir', 'education__graduate',\n",
       "       'education__not_graduate', 'self_employed__no', 'self_employed__yes'],\n",
       "      dtype='object')"
      ]
     },
     "execution_count": 59,
     "metadata": {},
     "output_type": "execute_result"
    }
   ],
   "source": [
    "X.columns"
   ]
  },
  {
   "cell_type": "code",
   "execution_count": 60,
   "metadata": {
    "id": "xciFPpIMU_J6"
   },
   "outputs": [],
   "source": [
    "X_train, X_test, y_train, y_test = train_test_split(X, y, test_size=0.33, random_state=42)"
   ]
  },
  {
   "cell_type": "code",
   "execution_count": 69,
   "metadata": {},
   "outputs": [
    {
     "data": {
      "text/plain": [
       "loan_id                                957\n",
       " no_of_dependents                        0\n",
       "City                                 Bursa\n",
       " education                    Not Graduate\n",
       " self_employed                         Yes\n",
       " income_annum                      9100000\n",
       " loan_amount                      22000000\n",
       " loan_term                              12\n",
       " cibil_score                         387.0\n",
       " residential_assets_value       25300000.0\n",
       " commercial_assets_value          15600000\n",
       " luxury_assets_value              31700000\n",
       " bank_asset_value                  7000000\n",
       " loan_status                      Rejected\n",
       "Name: 956, dtype: object"
      ]
     },
     "execution_count": 69,
     "metadata": {},
     "output_type": "execute_result"
    }
   ],
   "source": [
    "data.iloc[956]"
   ]
  },
  {
   "cell_type": "code",
   "execution_count": 67,
   "metadata": {},
   "outputs": [
    {
     "data": {
      "text/plain": [
       "956     1\n",
       "467     0\n",
       "1850    0\n",
       "332     0\n",
       "3302    0\n",
       "       ..\n",
       "1142    1\n",
       "1307    0\n",
       "871     0\n",
       "3563    0\n",
       "3201    1\n",
       "Name: loan_status, Length: 2698, dtype: int8"
      ]
     },
     "execution_count": 67,
     "metadata": {},
     "output_type": "execute_result"
    }
   ],
   "source": [
    "y_train"
   ]
  },
  {
   "cell_type": "code",
   "execution_count": 61,
   "metadata": {
    "id": "P8zGRQCGU_J6",
    "outputId": "f230bdd9-2562-4720-8a50-7f53234c880a"
   },
   "outputs": [
    {
     "name": "stdout",
     "output_type": "stream",
     "text": [
      "Accuracy Score:  0.8067669172932331\n",
      "717 119 138 356\n"
     ]
    }
   ],
   "source": [
    "knnclassifier = KNeighborsClassifier(n_neighbors = int(X.shape[1]/2))\n",
    "knnclassifier.fit(X_train, y_train)\n",
    "prediction = knnclassifier.predict(X_test)\n",
    "print(\"Accuracy Score: \", accuracy_score(y_test, prediction))\n",
    "\n",
    "tneg, fpos, fneg, tpos = confusion_matrix(y_test, prediction).ravel()\n",
    "print(tneg,fpos,fneg,tpos)"
   ]
  },
  {
   "cell_type": "code",
   "execution_count": 25,
   "metadata": {
    "id": "bNPWryLNU_J6",
    "outputId": "b74bf0d7-a039-4a11-f757-6034a6a4d00c"
   },
   "outputs": [
    {
     "name": "stdout",
     "output_type": "stream",
     "text": [
      "Score:  0.793984962406015\n",
      "705 131 143 351\n"
     ]
    },
    {
     "name": "stderr",
     "output_type": "stream",
     "text": [
      "/Users/melisozturk/opt/anaconda3/lib/python3.9/site-packages/sklearn/linear_model/_logistic.py:814: ConvergenceWarning: lbfgs failed to converge (status=1):\n",
      "STOP: TOTAL NO. of ITERATIONS REACHED LIMIT.\n",
      "\n",
      "Increase the number of iterations (max_iter) or scale the data as shown in:\n",
      "    https://scikit-learn.org/stable/modules/preprocessing.html\n",
      "Please also refer to the documentation for alternative solver options:\n",
      "    https://scikit-learn.org/stable/modules/linear_model.html#logistic-regression\n",
      "  n_iter_i = _check_optimize_result(\n"
     ]
    }
   ],
   "source": [
    "lregclassifier = LogisticRegression()\n",
    "lregclassifier.fit(X_train,y_train)\n",
    "lregprediction = lregclassifier.predict(X_test)\n",
    "print(\"Score: \",lregclassifier.score(X_test, y_test))\n",
    "\n",
    "tneg, fpos, fneg, tpos = confusion_matrix(y_test, lregprediction).ravel()\n",
    "print(tneg,fpos,fneg,tpos)"
   ]
  },
  {
   "cell_type": "code",
   "execution_count": 26,
   "metadata": {
    "id": "RycNW6hsU_J6",
    "outputId": "39f4cc32-c71b-4c83-a070-d1a2b29d90b3"
   },
   "outputs": [
    {
     "name": "stdout",
     "output_type": "stream",
     "text": [
      "Accuracy Score:  0.8037593984962406\n",
      "708 128 133 361\n"
     ]
    }
   ],
   "source": [
    "from sklearn.svm import SVC\n",
    "clf = SVC(gamma='auto', kernel ='linear')\n",
    "clf.fit(X_train, y_train)\n",
    "pred = clf.predict(X_test)\n",
    "print(\"Accuracy Score: \", accuracy_score(y_test, pred))\n",
    "\n",
    "tneg, fpos, fneg, tpos = confusion_matrix(y_test, pred).ravel()\n",
    "print(tneg,fpos,fneg,tpos)"
   ]
  },
  {
   "cell_type": "code",
   "execution_count": 62,
   "metadata": {
    "id": "JwBaDSszU_J6",
    "outputId": "79b5b322-53a2-479e-8e47-4304dade1731"
   },
   "outputs": [
    {
     "name": "stdout",
     "output_type": "stream",
     "text": [
      "Accuracy Score:  0.9428571428571428\n",
      "809 27 49 445\n"
     ]
    }
   ],
   "source": [
    "XGBclf = XGBClassifier()\n",
    "XGBclf.fit(X_train,y_train)\n",
    "\n",
    "XGBpred = XGBclf.predict(X_test)\n",
    "print(\"Accuracy Score: \", accuracy_score(y_test, XGBpred))\n",
    "\n",
    "tneg, fpos, fneg, tpos = confusion_matrix(y_test, XGBpred).ravel()\n",
    "print(tneg,fpos,fneg,tpos)"
   ]
  },
  {
   "cell_type": "code",
   "execution_count": 28,
   "metadata": {
    "id": "tezHYavOU_J7",
    "outputId": "c8e5eb7a-5427-48fa-8e54-d32fffc15c29"
   },
   "outputs": [
    {
     "name": "stdout",
     "output_type": "stream",
     "text": [
      "Accuracy Score:  0.6323308270676692\n",
      "826 10 479 15\n"
     ]
    }
   ],
   "source": [
    "SGDclf = SGDClassifier(loss='modified_huber',shuffle=True)\n",
    "SGDclf.fit(X_train,y_train)\n",
    "\n",
    "SGDpred = SGDclf.predict(X_test)\n",
    "print(\"Accuracy Score: \", accuracy_score(y_test, SGDpred))\n",
    "\n",
    "tneg, fpos, fneg, tpos = confusion_matrix(y_test, SGDpred).ravel()\n",
    "print(tneg,fpos,fneg,tpos)"
   ]
  },
  {
   "cell_type": "code",
   "execution_count": 29,
   "metadata": {
    "id": "wraxMPdjU_J7"
   },
   "outputs": [],
   "source": [
    "import pickle"
   ]
  },
  {
   "cell_type": "code",
   "execution_count": 64,
   "metadata": {
    "id": "y8yfsy5xU_J7"
   },
   "outputs": [],
   "source": [
    "filename = 'loan_classification_model.sav'\n",
    "pickle.dump(XGBclf, open(filename, 'wb'))"
   ]
  },
  {
   "cell_type": "code",
   "execution_count": 65,
   "metadata": {
    "id": "b5A7rMugU_J7"
   },
   "outputs": [
    {
     "data": {
      "text/plain": [
       "2698"
      ]
     },
     "execution_count": 65,
     "metadata": {},
     "output_type": "execute_result"
    }
   ],
   "source": [
    "len(X_train)"
   ]
  },
  {
   "cell_type": "code",
   "execution_count": 66,
   "metadata": {},
   "outputs": [
    {
     "data": {
      "text/plain": [
       "(2698, 18)"
      ]
     },
     "execution_count": 66,
     "metadata": {},
     "output_type": "execute_result"
    }
   ],
   "source": [
    "X_train.shape"
   ]
  },
  {
   "cell_type": "markdown",
   "metadata": {},
   "source": [
    "# Feature Importance"
   ]
  },
  {
   "cell_type": "code",
   "execution_count": 82,
   "metadata": {},
   "outputs": [
    {
     "data": {
      "text/plain": [
       "Text(0.5, 0, 'Xgboost Feature Importance')"
      ]
     },
     "execution_count": 82,
     "metadata": {},
     "output_type": "execute_result"
    },
    {
     "data": {
      "image/png": "[encoded data removed]",
      "text/plain": [
       "<Figure size 432x288 with 1 Axes>"
      ]
     },
     "metadata": {
      "needs_background": "light"
     },
     "output_type": "display_data"
    }
   ],
   "source": [
    "# BUilt-in feature importance\n",
    "\n",
    "\n",
    "sorted_idx = XGBclf.feature_importances_.argsort()\n",
    "plt.barh(X_train.columns[sorted_idx], XGBclf.feature_importances_[sorted_idx])\n",
    "plt.xlabel(\"Xgboost Feature Importance\")\n"
   ]
  },
  {
   "cell_type": "code",
   "execution_count": 84,
   "metadata": {},
   "outputs": [
    {
     "data": {
      "text/plain": [
       "Text(0.5, 0, 'Permutation Importance')"
      ]
     },
     "execution_count": 84,
     "metadata": {},
     "output_type": "execute_result"
    },
    {
     "data": {
      "image/png": "[encoded data removed]",
      "text/plain": [
       "<Figure size 432x288 with 1 Axes>"
      ]
     },
     "metadata": {
      "needs_background": "light"
     },
     "output_type": "display_data"
    }
   ],
   "source": [
    "# Permutation based importance\n",
    "\n",
    "from sklearn.inspection import permutation_importance\n",
    "\n",
    "perm_importance = permutation_importance(XGBclf, X_test, y_test)\n",
    "sorted_idx = perm_importance.importances_mean.argsort()\n",
    "plt.barh(X_train.columns[sorted_idx], perm_importance.importances_mean[sorted_idx])\n",
    "plt.xlabel(\"Permutation Importance\")"
   ]
  },
  {
   "cell_type": "code",
   "execution_count": 85,
   "metadata": {},
   "outputs": [
    {
     "ename": "AttributeError",
     "evalue": "module 'numpy' has no attribute 'int'.\n`np.int` was a deprecated alias for the builtin `int`. To avoid this error in existing code, use `int` by itself. Doing this will not modify any behavior and is safe. When replacing `np.int`, you may wish to use e.g. `np.int64` or `np.int32` to specify the precision. If you wish to review your current use, check the release note link for additional information.\nThe aliases was originally deprecated in NumPy 1.20; for more details and guidance see the original release note at:\n    https://numpy.org/devdocs/release/1.20.0-notes.html#deprecations",
     "output_type": "error",
     "traceback": [
      "\u001b[0;31m---------------------------------------------------------------------------\u001b[0m",
      "\u001b[0;31mAttributeError\u001b[0m                            Traceback (most recent call last)",
      "\u001b[0;32m/var/folders/t7/q3z62w851xb7zsp6vg8_mmqc0000gn/T/ipykernel_4595/3045103111.py\u001b[0m in \u001b[0;36m<module>\u001b[0;34m\u001b[0m\n\u001b[1;32m      2\u001b[0m \u001b[0;32mimport\u001b[0m \u001b[0mshap\u001b[0m\u001b[0;34m\u001b[0m\u001b[0;34m\u001b[0m\u001b[0m\n\u001b[1;32m      3\u001b[0m \u001b[0;34m\u001b[0m\u001b[0m\n\u001b[0;32m----> 4\u001b[0;31m \u001b[0mexplainer\u001b[0m \u001b[0;34m=\u001b[0m \u001b[0mshap\u001b[0m\u001b[0;34m.\u001b[0m\u001b[0mTreeExplainer\u001b[0m\u001b[0;34m(\u001b[0m\u001b[0mXGBclf\u001b[0m\u001b[0;34m)\u001b[0m\u001b[0;34m\u001b[0m\u001b[0;34m\u001b[0m\u001b[0m\n\u001b[0m\u001b[1;32m      5\u001b[0m \u001b[0mshap_values\u001b[0m \u001b[0;34m=\u001b[0m \u001b[0mexplainer\u001b[0m\u001b[0;34m.\u001b[0m\u001b[0mshap_values\u001b[0m\u001b[0;34m(\u001b[0m\u001b[0mX_test\u001b[0m\u001b[0;34m)\u001b[0m\u001b[0;34m\u001b[0m\u001b[0;34m\u001b[0m\u001b[0m\n\u001b[1;32m      6\u001b[0m \u001b[0mshap\u001b[0m\u001b[0;34m.\u001b[0m\u001b[0msummary_plot\u001b[0m\u001b[0;34m(\u001b[0m\u001b[0mshap_values\u001b[0m\u001b[0;34m,\u001b[0m \u001b[0mX_test\u001b[0m\u001b[0;34m,\u001b[0m \u001b[0mplot_type\u001b[0m\u001b[0;34m=\u001b[0m\u001b[0;34m\"bar\"\u001b[0m\u001b[0;34m)\u001b[0m\u001b[0;34m\u001b[0m\u001b[0;34m\u001b[0m\u001b[0m\n",
      "\u001b[0;32m~/opt/anaconda3/lib/python3.9/site-packages/shap/explainers/_tree.py\u001b[0m in \u001b[0;36m__init__\u001b[0;34m(self, model, data, model_output, feature_perturbation, feature_names, approximate, **deprecated_options)\u001b[0m\n\u001b[1;32m    147\u001b[0m         \u001b[0mself\u001b[0m\u001b[0;34m.\u001b[0m\u001b[0mfeature_perturbation\u001b[0m \u001b[0;34m=\u001b[0m \u001b[0mfeature_perturbation\u001b[0m\u001b[0;34m\u001b[0m\u001b[0;34m\u001b[0m\u001b[0m\n\u001b[1;32m    148\u001b[0m         \u001b[0mself\u001b[0m\u001b[0;34m.\u001b[0m\u001b[0mexpected_value\u001b[0m \u001b[0;34m=\u001b[0m \u001b[0;32mNone\u001b[0m\u001b[0;34m\u001b[0m\u001b[0;34m\u001b[0m\u001b[0m\n\u001b[0;32m--> 149\u001b[0;31m         \u001b[0mself\u001b[0m\u001b[0;34m.\u001b[0m\u001b[0mmodel\u001b[0m \u001b[0;34m=\u001b[0m \u001b[0mTreeEnsemble\u001b[0m\u001b[0;34m(\u001b[0m\u001b[0mmodel\u001b[0m\u001b[0;34m,\u001b[0m \u001b[0mself\u001b[0m\u001b[0;34m.\u001b[0m\u001b[0mdata\u001b[0m\u001b[0;34m,\u001b[0m \u001b[0mself\u001b[0m\u001b[0;34m.\u001b[0m\u001b[0mdata_missing\u001b[0m\u001b[0;34m,\u001b[0m \u001b[0mmodel_output\u001b[0m\u001b[0;34m)\u001b[0m\u001b[0;34m\u001b[0m\u001b[0;34m\u001b[0m\u001b[0m\n\u001b[0m\u001b[1;32m    150\u001b[0m         \u001b[0mself\u001b[0m\u001b[0;34m.\u001b[0m\u001b[0mmodel_output\u001b[0m \u001b[0;34m=\u001b[0m \u001b[0mmodel_output\u001b[0m\u001b[0;34m\u001b[0m\u001b[0;34m\u001b[0m\u001b[0m\n\u001b[1;32m    151\u001b[0m         \u001b[0;31m#self.model_output = self.model.model_output # this allows the TreeEnsemble to translate model outputs types by how it loads the model\u001b[0m\u001b[0;34m\u001b[0m\u001b[0;34m\u001b[0m\u001b[0m\n",
      "\u001b[0;32m~/opt/anaconda3/lib/python3.9/site-packages/shap/explainers/_tree.py\u001b[0m in \u001b[0;36m__init__\u001b[0;34m(self, model, data, data_missing, model_output)\u001b[0m\n\u001b[1;32m    834\u001b[0m             \u001b[0mself\u001b[0m\u001b[0;34m.\u001b[0m\u001b[0mmodel_type\u001b[0m \u001b[0;34m=\u001b[0m \u001b[0;34m\"xgboost\"\u001b[0m\u001b[0;34m\u001b[0m\u001b[0;34m\u001b[0m\u001b[0m\n\u001b[1;32m    835\u001b[0m             \u001b[0mself\u001b[0m\u001b[0;34m.\u001b[0m\u001b[0moriginal_model\u001b[0m \u001b[0;34m=\u001b[0m \u001b[0mmodel\u001b[0m\u001b[0;34m.\u001b[0m\u001b[0mget_booster\u001b[0m\u001b[0;34m(\u001b[0m\u001b[0;34m)\u001b[0m\u001b[0;34m\u001b[0m\u001b[0;34m\u001b[0m\u001b[0m\n\u001b[0;32m--> 836\u001b[0;31m             \u001b[0mxgb_loader\u001b[0m \u001b[0;34m=\u001b[0m \u001b[0mXGBTreeModelLoader\u001b[0m\u001b[0;34m(\u001b[0m\u001b[0mself\u001b[0m\u001b[0;34m.\u001b[0m\u001b[0moriginal_model\u001b[0m\u001b[0;34m)\u001b[0m\u001b[0;34m\u001b[0m\u001b[0;34m\u001b[0m\u001b[0m\n\u001b[0m\u001b[1;32m    837\u001b[0m             \u001b[0mself\u001b[0m\u001b[0;34m.\u001b[0m\u001b[0mtrees\u001b[0m \u001b[0;34m=\u001b[0m \u001b[0mxgb_loader\u001b[0m\u001b[0;34m.\u001b[0m\u001b[0mget_trees\u001b[0m\u001b[0;34m(\u001b[0m\u001b[0mdata\u001b[0m\u001b[0;34m=\u001b[0m\u001b[0mdata\u001b[0m\u001b[0;34m,\u001b[0m \u001b[0mdata_missing\u001b[0m\u001b[0;34m=\u001b[0m\u001b[0mdata_missing\u001b[0m\u001b[0;34m)\u001b[0m\u001b[0;34m\u001b[0m\u001b[0;34m\u001b[0m\u001b[0m\n\u001b[1;32m    838\u001b[0m             \u001b[0mself\u001b[0m\u001b[0;34m.\u001b[0m\u001b[0mbase_offset\u001b[0m \u001b[0;34m=\u001b[0m \u001b[0mxgb_loader\u001b[0m\u001b[0;34m.\u001b[0m\u001b[0mbase_score\u001b[0m\u001b[0;34m\u001b[0m\u001b[0;34m\u001b[0m\u001b[0m\n",
      "\u001b[0;32m~/opt/anaconda3/lib/python3.9/site-packages/shap/explainers/_tree.py\u001b[0m in \u001b[0;36m__init__\u001b[0;34m(self, xgb_model)\u001b[0m\n\u001b[1;32m   1509\u001b[0m             \u001b[0mself\u001b[0m\u001b[0;34m.\u001b[0m\u001b[0msum_hess\u001b[0m\u001b[0;34m.\u001b[0m\u001b[0mappend\u001b[0m\u001b[0;34m(\u001b[0m\u001b[0mnp\u001b[0m\u001b[0;34m.\u001b[0m\u001b[0mzeros\u001b[0m\u001b[0;34m(\u001b[0m\u001b[0mself\u001b[0m\u001b[0;34m.\u001b[0m\u001b[0mnum_nodes\u001b[0m\u001b[0;34m[\u001b[0m\u001b[0mi\u001b[0m\u001b[0;34m]\u001b[0m\u001b[0;34m,\u001b[0m \u001b[0mdtype\u001b[0m\u001b[0;34m=\u001b[0m\u001b[0mnp\u001b[0m\u001b[0;34m.\u001b[0m\u001b[0mfloat32\u001b[0m\u001b[0;34m)\u001b[0m\u001b[0;34m)\u001b[0m\u001b[0;34m\u001b[0m\u001b[0;34m\u001b[0m\u001b[0m\n\u001b[1;32m   1510\u001b[0m             \u001b[0mself\u001b[0m\u001b[0;34m.\u001b[0m\u001b[0mbase_weight\u001b[0m\u001b[0;34m.\u001b[0m\u001b[0mappend\u001b[0m\u001b[0;34m(\u001b[0m\u001b[0mnp\u001b[0m\u001b[0;34m.\u001b[0m\u001b[0mzeros\u001b[0m\u001b[0;34m(\u001b[0m\u001b[0mself\u001b[0m\u001b[0;34m.\u001b[0m\u001b[0mnum_nodes\u001b[0m\u001b[0;34m[\u001b[0m\u001b[0mi\u001b[0m\u001b[0;34m]\u001b[0m\u001b[0;34m,\u001b[0m \u001b[0mdtype\u001b[0m\u001b[0;34m=\u001b[0m\u001b[0mnp\u001b[0m\u001b[0;34m.\u001b[0m\u001b[0mfloat32\u001b[0m\u001b[0;34m)\u001b[0m\u001b[0;34m)\u001b[0m\u001b[0;34m\u001b[0m\u001b[0;34m\u001b[0m\u001b[0m\n\u001b[0;32m-> 1511\u001b[0;31m             \u001b[0mself\u001b[0m\u001b[0;34m.\u001b[0m\u001b[0mleaf_child_cnt\u001b[0m\u001b[0;34m.\u001b[0m\u001b[0mappend\u001b[0m\u001b[0;34m(\u001b[0m\u001b[0mnp\u001b[0m\u001b[0;34m.\u001b[0m\u001b[0mzeros\u001b[0m\u001b[0;34m(\u001b[0m\u001b[0mself\u001b[0m\u001b[0;34m.\u001b[0m\u001b[0mnum_nodes\u001b[0m\u001b[0;34m[\u001b[0m\u001b[0mi\u001b[0m\u001b[0;34m]\u001b[0m\u001b[0;34m,\u001b[0m \u001b[0mdtype\u001b[0m\u001b[0;34m=\u001b[0m\u001b[0mnp\u001b[0m\u001b[0;34m.\u001b[0m\u001b[0mint\u001b[0m\u001b[0;34m)\u001b[0m\u001b[0;34m)\u001b[0m\u001b[0;34m\u001b[0m\u001b[0;34m\u001b[0m\u001b[0m\n\u001b[0m\u001b[1;32m   1512\u001b[0m             \u001b[0;32mfor\u001b[0m \u001b[0mj\u001b[0m \u001b[0;32min\u001b[0m \u001b[0mrange\u001b[0m\u001b[0;34m(\u001b[0m\u001b[0mself\u001b[0m\u001b[0;34m.\u001b[0m\u001b[0mnum_nodes\u001b[0m\u001b[0;34m[\u001b[0m\u001b[0mi\u001b[0m\u001b[0;34m]\u001b[0m\u001b[0;34m)\u001b[0m\u001b[0;34m:\u001b[0m\u001b[0;34m\u001b[0m\u001b[0;34m\u001b[0m\u001b[0m\n\u001b[1;32m   1513\u001b[0m                 \u001b[0mself\u001b[0m\u001b[0;34m.\u001b[0m\u001b[0mloss_chg\u001b[0m\u001b[0;34m[\u001b[0m\u001b[0;34m-\u001b[0m\u001b[0;36m1\u001b[0m\u001b[0;34m]\u001b[0m\u001b[0;34m[\u001b[0m\u001b[0mj\u001b[0m\u001b[0;34m]\u001b[0m \u001b[0;34m=\u001b[0m \u001b[0mself\u001b[0m\u001b[0;34m.\u001b[0m\u001b[0mread\u001b[0m\u001b[0;34m(\u001b[0m\u001b[0;34m'f'\u001b[0m\u001b[0;34m)\u001b[0m\u001b[0;34m\u001b[0m\u001b[0;34m\u001b[0m\u001b[0m\n",
      "\u001b[0;32m~/opt/anaconda3/lib/python3.9/site-packages/numpy/__init__.py\u001b[0m in \u001b[0;36m__getattr__\u001b[0;34m(attr)\u001b[0m\n\u001b[1;32m    322\u001b[0m \u001b[0;34m\u001b[0m\u001b[0m\n\u001b[1;32m    323\u001b[0m         \u001b[0;32mif\u001b[0m \u001b[0mattr\u001b[0m \u001b[0;32min\u001b[0m \u001b[0m__former_attrs__\u001b[0m\u001b[0;34m:\u001b[0m\u001b[0;34m\u001b[0m\u001b[0;34m\u001b[0m\u001b[0m\n\u001b[0;32m--> 324\u001b[0;31m             \u001b[0;32mraise\u001b[0m \u001b[0mAttributeError\u001b[0m\u001b[0;34m(\u001b[0m\u001b[0m__former_attrs__\u001b[0m\u001b[0;34m[\u001b[0m\u001b[0mattr\u001b[0m\u001b[0;34m]\u001b[0m\u001b[0;34m)\u001b[0m\u001b[0;34m\u001b[0m\u001b[0;34m\u001b[0m\u001b[0m\n\u001b[0m\u001b[1;32m    325\u001b[0m \u001b[0;34m\u001b[0m\u001b[0m\n\u001b[1;32m    326\u001b[0m         \u001b[0;32mif\u001b[0m \u001b[0mattr\u001b[0m \u001b[0;34m==\u001b[0m \u001b[0;34m'testing'\u001b[0m\u001b[0;34m:\u001b[0m\u001b[0;34m\u001b[0m\u001b[0;34m\u001b[0m\u001b[0m\n",
      "\u001b[0;31mAttributeError\u001b[0m: module 'numpy' has no attribute 'int'.\n`np.int` was a deprecated alias for the builtin `int`. To avoid this error in existing code, use `int` by itself. Doing this will not modify any behavior and is safe. When replacing `np.int`, you may wish to use e.g. `np.int64` or `np.int32` to specify the precision. If you wish to review your current use, check the release note link for additional information.\nThe aliases was originally deprecated in NumPy 1.20; for more details and guidance see the original release note at:\n    https://numpy.org/devdocs/release/1.20.0-notes.html#deprecations"
     ]
    }
   ],
   "source": [
    "# SHAP based importance\n",
    "import shap\n",
    "\n",
    "explainer = shap.TreeExplainer(XGBclf)\n",
    "shap_values = explainer.shap_values(X_test)\n",
    "shap.summary_plot(shap_values, X_test, plot_type=\"bar\")"
   ]
  },
  {
   "cell_type": "code",
   "execution_count": null,
   "metadata": {},
   "outputs": [],
   "source": []
  }
 ],
 "metadata": {
  "colab": {
   "provenance": []
  },
  "kernelspec": {
   "display_name": "Python 3 (ipykernel)",
   "language": "python",
   "name": "python3"
  },
  "language_info": {
   "codemirror_mode": {
    "name": "ipython",
    "version": 3
   },
   "file_extension": ".py",
   "mimetype": "text/x-python",
   "name": "python",
   "nbconvert_exporter": "python",
   "pygments_lexer": "ipython3",
   "version": "3.9.7"
  }
 },
 "nbformat": 4,
 "nbformat_minor": 1
}
