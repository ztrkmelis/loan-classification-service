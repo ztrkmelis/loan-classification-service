{
 "cells": [
  {
   "cell_type": "code",
   "execution_count": 37,
   "metadata": {
    "id": "T-l6Spw3U_Jx"
   },
   "outputs": [],
   "source": [
    "import pandas as pd\n",
    "import numpy as np\n",
    "from sklearn.model_selection import train_test_split\n",
    "from sklearn.linear_model import LogisticRegression\n",
    "from sklearn.neighbors import KNeighborsClassifier\n",
    "from sklearn.metrics import accuracy_score\n",
    "from sklearn.metrics import confusion_matrix\n",
    "from xgboost import XGBClassifier\n",
    "from sklearn.linear_model import SGDClassifier\n",
    "import pickle\n",
    "from sklearn.preprocessing import MinMaxScaler, StandardScaler\n",
    "from sklearn.model_selection import GridSearchCV\n",
    "from matplotlib import pyplot as plt"
   ]
  },
  {
   "cell_type": "code",
   "execution_count": 2,
   "metadata": {
    "id": "6D7EFVJ7U_J0"
   },
   "outputs": [],
   "source": [
    "data = pd.read_csv(r\"/Users/melisozturk/PycharmProjects/loan_model/loan_approval_dataset_updated.csv\",\n",
    "                   sep=\";\",\n",
    "                   engine='python',\n",
    "                   encoding=\"latin-1\")"
   ]
  },
  {
   "cell_type": "code",
   "execution_count": 3,
   "metadata": {
    "id": "wlNmfsZ2U_J1",
    "outputId": "2f804695-8364-41dc-ce68-8a48d472b8d6"
   },
   "outputs": [
    {
     "data": {
      "text/html": [
       "<div>\n",
       "<style scoped>\n",
       "    .dataframe tbody tr th:only-of-type {\n",
       "        vertical-align: middle;\n",
       "    }\n",
       "\n",
       "    .dataframe tbody tr th {\n",
       "        vertical-align: top;\n",
       "    }\n",
       "\n",
       "    .dataframe thead th {\n",
       "        text-align: right;\n",
       "    }\n",
       "</style>\n",
       "<table border=\"1\" class=\"dataframe\">\n",
       "  <thead>\n",
       "    <tr style=\"text-align: right;\">\n",
       "      <th></th>\n",
       "      <th>loan_id</th>\n",
       "      <th>no_of_dependents</th>\n",
       "      <th>City</th>\n",
       "      <th>education</th>\n",
       "      <th>self_employed</th>\n",
       "      <th>income_annum</th>\n",
       "      <th>loan_amount</th>\n",
       "      <th>loan_term</th>\n",
       "      <th>cibil_score</th>\n",
       "      <th>residential_assets_value</th>\n",
       "      <th>commercial_assets_value</th>\n",
       "      <th>luxury_assets_value</th>\n",
       "      <th>bank_asset_value</th>\n",
       "      <th>loan_status</th>\n",
       "    </tr>\n",
       "  </thead>\n",
       "  <tbody>\n",
       "    <tr>\n",
       "      <th>0</th>\n",
       "      <td>1</td>\n",
       "      <td>2</td>\n",
       "      <td>Ankara</td>\n",
       "      <td>Graduate</td>\n",
       "      <td>No</td>\n",
       "      <td>9600000</td>\n",
       "      <td>29900000</td>\n",
       "      <td>12</td>\n",
       "      <td>778.0</td>\n",
       "      <td>2400000.0</td>\n",
       "      <td>17600000</td>\n",
       "      <td>22700000</td>\n",
       "      <td>8000000</td>\n",
       "      <td>Approved</td>\n",
       "    </tr>\n",
       "    <tr>\n",
       "      <th>1</th>\n",
       "      <td>2</td>\n",
       "      <td>0</td>\n",
       "      <td>Ankara</td>\n",
       "      <td>Not Graduate</td>\n",
       "      <td>Yes</td>\n",
       "      <td>4100000</td>\n",
       "      <td>12200000</td>\n",
       "      <td>8</td>\n",
       "      <td>417.0</td>\n",
       "      <td>2700000.0</td>\n",
       "      <td>2200000</td>\n",
       "      <td>8800000</td>\n",
       "      <td>3300000</td>\n",
       "      <td>Rejected</td>\n",
       "    </tr>\n",
       "    <tr>\n",
       "      <th>2</th>\n",
       "      <td>3</td>\n",
       "      <td>3</td>\n",
       "      <td>Ankara</td>\n",
       "      <td>Graduate</td>\n",
       "      <td>No</td>\n",
       "      <td>9100000</td>\n",
       "      <td>29700000</td>\n",
       "      <td>20</td>\n",
       "      <td>NaN</td>\n",
       "      <td>7100000.0</td>\n",
       "      <td>4500000</td>\n",
       "      <td>33300000</td>\n",
       "      <td>12800000</td>\n",
       "      <td>Rejected</td>\n",
       "    </tr>\n",
       "    <tr>\n",
       "      <th>3</th>\n",
       "      <td>4</td>\n",
       "      <td>3</td>\n",
       "      <td>Ankara</td>\n",
       "      <td>Graduate</td>\n",
       "      <td>No</td>\n",
       "      <td>8200000</td>\n",
       "      <td>30700000</td>\n",
       "      <td>8</td>\n",
       "      <td>NaN</td>\n",
       "      <td>18200000.0</td>\n",
       "      <td>3300000</td>\n",
       "      <td>23300000</td>\n",
       "      <td>7900000</td>\n",
       "      <td>Rejected</td>\n",
       "    </tr>\n",
       "    <tr>\n",
       "      <th>4</th>\n",
       "      <td>5</td>\n",
       "      <td>5</td>\n",
       "      <td>Ankara</td>\n",
       "      <td>Not Graduate</td>\n",
       "      <td>Yes</td>\n",
       "      <td>9800000</td>\n",
       "      <td>24200000</td>\n",
       "      <td>20</td>\n",
       "      <td>NaN</td>\n",
       "      <td>12400000.0</td>\n",
       "      <td>8200000</td>\n",
       "      <td>29400000</td>\n",
       "      <td>5000000</td>\n",
       "      <td>Rejected</td>\n",
       "    </tr>\n",
       "  </tbody>\n",
       "</table>\n",
       "</div>"
      ],
      "text/plain": [
       "   loan_id   no_of_dependents    City      education  self_employed  \\\n",
       "0        1                  2  Ankara       Graduate             No   \n",
       "1        2                  0  Ankara   Not Graduate            Yes   \n",
       "2        3                  3  Ankara       Graduate             No   \n",
       "3        4                  3  Ankara       Graduate             No   \n",
       "4        5                  5  Ankara   Not Graduate            Yes   \n",
       "\n",
       "    income_annum   loan_amount   loan_term   cibil_score  \\\n",
       "0        9600000      29900000          12         778.0   \n",
       "1        4100000      12200000           8         417.0   \n",
       "2        9100000      29700000          20           NaN   \n",
       "3        8200000      30700000           8           NaN   \n",
       "4        9800000      24200000          20           NaN   \n",
       "\n",
       "    residential_assets_value   commercial_assets_value   luxury_assets_value  \\\n",
       "0                  2400000.0                  17600000              22700000   \n",
       "1                  2700000.0                   2200000               8800000   \n",
       "2                  7100000.0                   4500000              33300000   \n",
       "3                 18200000.0                   3300000              23300000   \n",
       "4                 12400000.0                   8200000              29400000   \n",
       "\n",
       "    bank_asset_value  loan_status  \n",
       "0            8000000     Approved  \n",
       "1            3300000     Rejected  \n",
       "2           12800000     Rejected  \n",
       "3            7900000     Rejected  \n",
       "4            5000000     Rejected  "
      ]
     },
     "execution_count": 3,
     "metadata": {},
     "output_type": "execute_result"
    }
   ],
   "source": [
    "data.head()"
   ]
  },
  {
   "cell_type": "code",
   "execution_count": 4,
   "metadata": {
    "id": "UAT-_YajU_J2",
    "outputId": "98683dcf-c0ab-4275-9b1e-9b661878335a"
   },
   "outputs": [
    {
     "data": {
      "text/plain": [
       "(4269, 14)"
      ]
     },
     "execution_count": 4,
     "metadata": {},
     "output_type": "execute_result"
    }
   ],
   "source": [
    "data.shape"
   ]
  },
  {
   "cell_type": "code",
   "execution_count": 5,
   "metadata": {
    "id": "LpTtSp7AU_J2",
    "outputId": "364cdc92-d83b-4cfc-df2e-a6172488d58c"
   },
   "outputs": [
    {
     "data": {
      "text/html": [
       "<div>\n",
       "<style scoped>\n",
       "    .dataframe tbody tr th:only-of-type {\n",
       "        vertical-align: middle;\n",
       "    }\n",
       "\n",
       "    .dataframe tbody tr th {\n",
       "        vertical-align: top;\n",
       "    }\n",
       "\n",
       "    .dataframe thead th {\n",
       "        text-align: right;\n",
       "    }\n",
       "</style>\n",
       "<table border=\"1\" class=\"dataframe\">\n",
       "  <thead>\n",
       "    <tr style=\"text-align: right;\">\n",
       "      <th></th>\n",
       "      <th>City</th>\n",
       "      <th>education</th>\n",
       "      <th>cibil_score</th>\n",
       "      <th>residential_assets_value</th>\n",
       "    </tr>\n",
       "  </thead>\n",
       "  <tbody>\n",
       "    <tr>\n",
       "      <th>0</th>\n",
       "      <td>Ankara</td>\n",
       "      <td>Graduate</td>\n",
       "      <td>778.0</td>\n",
       "      <td>2400000.0</td>\n",
       "    </tr>\n",
       "    <tr>\n",
       "      <th>1</th>\n",
       "      <td>Ankara</td>\n",
       "      <td>Not Graduate</td>\n",
       "      <td>417.0</td>\n",
       "      <td>2700000.0</td>\n",
       "    </tr>\n",
       "    <tr>\n",
       "      <th>2</th>\n",
       "      <td>Ankara</td>\n",
       "      <td>Graduate</td>\n",
       "      <td>NaN</td>\n",
       "      <td>7100000.0</td>\n",
       "    </tr>\n",
       "    <tr>\n",
       "      <th>3</th>\n",
       "      <td>Ankara</td>\n",
       "      <td>Graduate</td>\n",
       "      <td>NaN</td>\n",
       "      <td>18200000.0</td>\n",
       "    </tr>\n",
       "    <tr>\n",
       "      <th>4</th>\n",
       "      <td>Ankara</td>\n",
       "      <td>Not Graduate</td>\n",
       "      <td>NaN</td>\n",
       "      <td>12400000.0</td>\n",
       "    </tr>\n",
       "    <tr>\n",
       "      <th>...</th>\n",
       "      <td>...</td>\n",
       "      <td>...</td>\n",
       "      <td>...</td>\n",
       "      <td>...</td>\n",
       "    </tr>\n",
       "    <tr>\n",
       "      <th>4264</th>\n",
       "      <td>Ýzmir</td>\n",
       "      <td>Graduate</td>\n",
       "      <td>317.0</td>\n",
       "      <td>2800000.0</td>\n",
       "    </tr>\n",
       "    <tr>\n",
       "      <th>4265</th>\n",
       "      <td>Ýzmir</td>\n",
       "      <td>Not Graduate</td>\n",
       "      <td>559.0</td>\n",
       "      <td>4200000.0</td>\n",
       "    </tr>\n",
       "    <tr>\n",
       "      <th>4266</th>\n",
       "      <td>Ýzmir</td>\n",
       "      <td>Not Graduate</td>\n",
       "      <td>457.0</td>\n",
       "      <td>1200000.0</td>\n",
       "    </tr>\n",
       "    <tr>\n",
       "      <th>4267</th>\n",
       "      <td>Ýzmir</td>\n",
       "      <td>Not Graduate</td>\n",
       "      <td>780.0</td>\n",
       "      <td>8200000.0</td>\n",
       "    </tr>\n",
       "    <tr>\n",
       "      <th>4268</th>\n",
       "      <td>Ýzmir</td>\n",
       "      <td>Graduate</td>\n",
       "      <td>607.0</td>\n",
       "      <td>17800000.0</td>\n",
       "    </tr>\n",
       "  </tbody>\n",
       "</table>\n",
       "<p>4269 rows × 4 columns</p>\n",
       "</div>"
      ],
      "text/plain": [
       "        City      education   cibil_score   residential_assets_value\n",
       "0     Ankara       Graduate         778.0                  2400000.0\n",
       "1     Ankara   Not Graduate         417.0                  2700000.0\n",
       "2     Ankara       Graduate           NaN                  7100000.0\n",
       "3     Ankara       Graduate           NaN                 18200000.0\n",
       "4     Ankara   Not Graduate           NaN                 12400000.0\n",
       "...      ...            ...           ...                        ...\n",
       "4264   Ýzmir       Graduate         317.0                  2800000.0\n",
       "4265   Ýzmir   Not Graduate         559.0                  4200000.0\n",
       "4266   Ýzmir   Not Graduate         457.0                  1200000.0\n",
       "4267   Ýzmir   Not Graduate         780.0                  8200000.0\n",
       "4268   Ýzmir       Graduate         607.0                 17800000.0\n",
       "\n",
       "[4269 rows x 4 columns]"
      ]
     },
     "execution_count": 5,
     "metadata": {},
     "output_type": "execute_result"
    }
   ],
   "source": [
    "data.loc[:, data.isna().any()]"
   ]
  },
  {
   "cell_type": "code",
   "execution_count": 6,
   "metadata": {
    "id": "iMm37cT1U_J2",
    "outputId": "1d684550-7853-4fbd-b420-fa097b22224f"
   },
   "outputs": [
    {
     "data": {
      "text/plain": [
       "Index(['loan_id', ' no_of_dependents', 'City', ' education', ' self_employed',\n",
       "       ' income_annum', ' loan_amount', ' loan_term', ' cibil_score',\n",
       "       ' residential_assets_value', ' commercial_assets_value',\n",
       "       ' luxury_assets_value', ' bank_asset_value', ' loan_status'],\n",
       "      dtype='object')"
      ]
     },
     "execution_count": 6,
     "metadata": {},
     "output_type": "execute_result"
    }
   ],
   "source": [
    "data.columns"
   ]
  },
  {
   "cell_type": "code",
   "execution_count": 7,
   "metadata": {
    "id": "jRJLnNh8U_J3"
   },
   "outputs": [],
   "source": [
    "df = data[(data.City.isna() == False) & (data[\" education\"].isna() == False)]"
   ]
  },
  {
   "cell_type": "code",
   "execution_count": 8,
   "metadata": {
    "id": "lcI8Oo9CU_J3"
   },
   "outputs": [],
   "source": [
    "df = df.replace(np.nan, 0)"
   ]
  },
  {
   "cell_type": "code",
   "execution_count": 9,
   "metadata": {
    "id": "dnBWQB19U_J3",
    "outputId": "63cf1315-180a-482d-8d7f-690dddea6d8a"
   },
   "outputs": [
    {
     "data": {
      "text/html": [
       "<div>\n",
       "<style scoped>\n",
       "    .dataframe tbody tr th:only-of-type {\n",
       "        vertical-align: middle;\n",
       "    }\n",
       "\n",
       "    .dataframe tbody tr th {\n",
       "        vertical-align: top;\n",
       "    }\n",
       "\n",
       "    .dataframe thead th {\n",
       "        text-align: right;\n",
       "    }\n",
       "</style>\n",
       "<table border=\"1\" class=\"dataframe\">\n",
       "  <thead>\n",
       "    <tr style=\"text-align: right;\">\n",
       "      <th></th>\n",
       "      <th>loan_id</th>\n",
       "      <th>no_of_dependents</th>\n",
       "      <th>City</th>\n",
       "      <th>education</th>\n",
       "      <th>self_employed</th>\n",
       "      <th>income_annum</th>\n",
       "      <th>loan_amount</th>\n",
       "      <th>loan_term</th>\n",
       "      <th>cibil_score</th>\n",
       "      <th>residential_assets_value</th>\n",
       "      <th>commercial_assets_value</th>\n",
       "      <th>luxury_assets_value</th>\n",
       "      <th>bank_asset_value</th>\n",
       "      <th>loan_status</th>\n",
       "    </tr>\n",
       "  </thead>\n",
       "  <tbody>\n",
       "    <tr>\n",
       "      <th>0</th>\n",
       "      <td>1</td>\n",
       "      <td>2</td>\n",
       "      <td>Ankara</td>\n",
       "      <td>Graduate</td>\n",
       "      <td>No</td>\n",
       "      <td>9600000</td>\n",
       "      <td>29900000</td>\n",
       "      <td>12</td>\n",
       "      <td>778.0</td>\n",
       "      <td>2400000.0</td>\n",
       "      <td>17600000</td>\n",
       "      <td>22700000</td>\n",
       "      <td>8000000</td>\n",
       "      <td>Approved</td>\n",
       "    </tr>\n",
       "    <tr>\n",
       "      <th>1</th>\n",
       "      <td>2</td>\n",
       "      <td>0</td>\n",
       "      <td>Ankara</td>\n",
       "      <td>Not Graduate</td>\n",
       "      <td>Yes</td>\n",
       "      <td>4100000</td>\n",
       "      <td>12200000</td>\n",
       "      <td>8</td>\n",
       "      <td>417.0</td>\n",
       "      <td>2700000.0</td>\n",
       "      <td>2200000</td>\n",
       "      <td>8800000</td>\n",
       "      <td>3300000</td>\n",
       "      <td>Rejected</td>\n",
       "    </tr>\n",
       "    <tr>\n",
       "      <th>2</th>\n",
       "      <td>3</td>\n",
       "      <td>3</td>\n",
       "      <td>Ankara</td>\n",
       "      <td>Graduate</td>\n",
       "      <td>No</td>\n",
       "      <td>9100000</td>\n",
       "      <td>29700000</td>\n",
       "      <td>20</td>\n",
       "      <td>0.0</td>\n",
       "      <td>7100000.0</td>\n",
       "      <td>4500000</td>\n",
       "      <td>33300000</td>\n",
       "      <td>12800000</td>\n",
       "      <td>Rejected</td>\n",
       "    </tr>\n",
       "    <tr>\n",
       "      <th>3</th>\n",
       "      <td>4</td>\n",
       "      <td>3</td>\n",
       "      <td>Ankara</td>\n",
       "      <td>Graduate</td>\n",
       "      <td>No</td>\n",
       "      <td>8200000</td>\n",
       "      <td>30700000</td>\n",
       "      <td>8</td>\n",
       "      <td>0.0</td>\n",
       "      <td>18200000.0</td>\n",
       "      <td>3300000</td>\n",
       "      <td>23300000</td>\n",
       "      <td>7900000</td>\n",
       "      <td>Rejected</td>\n",
       "    </tr>\n",
       "    <tr>\n",
       "      <th>4</th>\n",
       "      <td>5</td>\n",
       "      <td>5</td>\n",
       "      <td>Ankara</td>\n",
       "      <td>Not Graduate</td>\n",
       "      <td>Yes</td>\n",
       "      <td>9800000</td>\n",
       "      <td>24200000</td>\n",
       "      <td>20</td>\n",
       "      <td>0.0</td>\n",
       "      <td>12400000.0</td>\n",
       "      <td>8200000</td>\n",
       "      <td>29400000</td>\n",
       "      <td>5000000</td>\n",
       "      <td>Rejected</td>\n",
       "    </tr>\n",
       "  </tbody>\n",
       "</table>\n",
       "</div>"
      ],
      "text/plain": [
       "   loan_id   no_of_dependents    City      education  self_employed  \\\n",
       "0        1                  2  Ankara       Graduate             No   \n",
       "1        2                  0  Ankara   Not Graduate            Yes   \n",
       "2        3                  3  Ankara       Graduate             No   \n",
       "3        4                  3  Ankara       Graduate             No   \n",
       "4        5                  5  Ankara   Not Graduate            Yes   \n",
       "\n",
       "    income_annum   loan_amount   loan_term   cibil_score  \\\n",
       "0        9600000      29900000          12         778.0   \n",
       "1        4100000      12200000           8         417.0   \n",
       "2        9100000      29700000          20           0.0   \n",
       "3        8200000      30700000           8           0.0   \n",
       "4        9800000      24200000          20           0.0   \n",
       "\n",
       "    residential_assets_value   commercial_assets_value   luxury_assets_value  \\\n",
       "0                  2400000.0                  17600000              22700000   \n",
       "1                  2700000.0                   2200000               8800000   \n",
       "2                  7100000.0                   4500000              33300000   \n",
       "3                 18200000.0                   3300000              23300000   \n",
       "4                 12400000.0                   8200000              29400000   \n",
       "\n",
       "    bank_asset_value  loan_status  \n",
       "0            8000000     Approved  \n",
       "1            3300000     Rejected  \n",
       "2           12800000     Rejected  \n",
       "3            7900000     Rejected  \n",
       "4            5000000     Rejected  "
      ]
     },
     "execution_count": 9,
     "metadata": {},
     "output_type": "execute_result"
    }
   ],
   "source": [
    "df.head()"
   ]
  },
  {
   "cell_type": "code",
   "execution_count": 10,
   "metadata": {
    "id": "oT5-Q5gpU_J4",
    "outputId": "00865975-3059-4b4a-d5c7-34447cea109a"
   },
   "outputs": [
    {
     "data": {
      "text/html": [
       "<div>\n",
       "<style scoped>\n",
       "    .dataframe tbody tr th:only-of-type {\n",
       "        vertical-align: middle;\n",
       "    }\n",
       "\n",
       "    .dataframe tbody tr th {\n",
       "        vertical-align: top;\n",
       "    }\n",
       "\n",
       "    .dataframe thead th {\n",
       "        text-align: right;\n",
       "    }\n",
       "</style>\n",
       "<table border=\"1\" class=\"dataframe\">\n",
       "  <thead>\n",
       "    <tr style=\"text-align: right;\">\n",
       "      <th></th>\n",
       "      <th>loan_id</th>\n",
       "      <th>no_of_dependents</th>\n",
       "      <th>income_annum</th>\n",
       "      <th>loan_amount</th>\n",
       "      <th>loan_term</th>\n",
       "      <th>cibil_score</th>\n",
       "      <th>residential_assets_value</th>\n",
       "      <th>commercial_assets_value</th>\n",
       "      <th>luxury_assets_value</th>\n",
       "      <th>bank_asset_value</th>\n",
       "    </tr>\n",
       "  </thead>\n",
       "  <tbody>\n",
       "    <tr>\n",
       "      <th>count</th>\n",
       "      <td>4028.000000</td>\n",
       "      <td>4028.000000</td>\n",
       "      <td>4.028000e+03</td>\n",
       "      <td>4.028000e+03</td>\n",
       "      <td>4028.000000</td>\n",
       "      <td>4028.000000</td>\n",
       "      <td>4.028000e+03</td>\n",
       "      <td>4.028000e+03</td>\n",
       "      <td>4.028000e+03</td>\n",
       "      <td>4.028000e+03</td>\n",
       "    </tr>\n",
       "    <tr>\n",
       "      <th>mean</th>\n",
       "      <td>2058.624379</td>\n",
       "      <td>2.493049</td>\n",
       "      <td>5.061966e+06</td>\n",
       "      <td>1.513803e+07</td>\n",
       "      <td>10.890765</td>\n",
       "      <td>546.520854</td>\n",
       "      <td>7.283044e+06</td>\n",
       "      <td>4.985228e+06</td>\n",
       "      <td>1.514737e+07</td>\n",
       "      <td>4.982920e+06</td>\n",
       "    </tr>\n",
       "    <tr>\n",
       "      <th>std</th>\n",
       "      <td>1211.678956</td>\n",
       "      <td>1.697718</td>\n",
       "      <td>2.805406e+06</td>\n",
       "      <td>9.043574e+06</td>\n",
       "      <td>5.711288</td>\n",
       "      <td>236.550255</td>\n",
       "      <td>6.553892e+06</td>\n",
       "      <td>4.394239e+06</td>\n",
       "      <td>9.109618e+06</td>\n",
       "      <td>3.249115e+06</td>\n",
       "    </tr>\n",
       "    <tr>\n",
       "      <th>min</th>\n",
       "      <td>1.000000</td>\n",
       "      <td>0.000000</td>\n",
       "      <td>2.000000e+05</td>\n",
       "      <td>3.000000e+05</td>\n",
       "      <td>2.000000</td>\n",
       "      <td>0.000000</td>\n",
       "      <td>-1.000000e+05</td>\n",
       "      <td>0.000000e+00</td>\n",
       "      <td>3.000000e+05</td>\n",
       "      <td>0.000000e+00</td>\n",
       "    </tr>\n",
       "    <tr>\n",
       "      <th>25%</th>\n",
       "      <td>1018.750000</td>\n",
       "      <td>1.000000</td>\n",
       "      <td>2.700000e+06</td>\n",
       "      <td>7.700000e+06</td>\n",
       "      <td>6.000000</td>\n",
       "      <td>407.000000</td>\n",
       "      <td>1.900000e+06</td>\n",
       "      <td>1.400000e+06</td>\n",
       "      <td>7.500000e+06</td>\n",
       "      <td>2.400000e+06</td>\n",
       "    </tr>\n",
       "    <tr>\n",
       "      <th>50%</th>\n",
       "      <td>2032.500000</td>\n",
       "      <td>3.000000</td>\n",
       "      <td>5.100000e+06</td>\n",
       "      <td>1.450000e+07</td>\n",
       "      <td>10.000000</td>\n",
       "      <td>569.000000</td>\n",
       "      <td>5.400000e+06</td>\n",
       "      <td>3.700000e+06</td>\n",
       "      <td>1.460000e+07</td>\n",
       "      <td>4.600000e+06</td>\n",
       "    </tr>\n",
       "    <tr>\n",
       "      <th>75%</th>\n",
       "      <td>3048.250000</td>\n",
       "      <td>4.000000</td>\n",
       "      <td>7.500000e+06</td>\n",
       "      <td>2.140000e+07</td>\n",
       "      <td>16.000000</td>\n",
       "      <td>730.000000</td>\n",
       "      <td>1.112500e+07</td>\n",
       "      <td>7.700000e+06</td>\n",
       "      <td>2.170000e+07</td>\n",
       "      <td>7.100000e+06</td>\n",
       "    </tr>\n",
       "    <tr>\n",
       "      <th>max</th>\n",
       "      <td>4269.000000</td>\n",
       "      <td>5.000000</td>\n",
       "      <td>9.900000e+06</td>\n",
       "      <td>3.950000e+07</td>\n",
       "      <td>20.000000</td>\n",
       "      <td>900.000000</td>\n",
       "      <td>2.910000e+07</td>\n",
       "      <td>1.940000e+07</td>\n",
       "      <td>3.920000e+07</td>\n",
       "      <td>1.470000e+07</td>\n",
       "    </tr>\n",
       "  </tbody>\n",
       "</table>\n",
       "</div>"
      ],
      "text/plain": [
       "           loan_id   no_of_dependents   income_annum   loan_amount  \\\n",
       "count  4028.000000        4028.000000   4.028000e+03  4.028000e+03   \n",
       "mean   2058.624379           2.493049   5.061966e+06  1.513803e+07   \n",
       "std    1211.678956           1.697718   2.805406e+06  9.043574e+06   \n",
       "min       1.000000           0.000000   2.000000e+05  3.000000e+05   \n",
       "25%    1018.750000           1.000000   2.700000e+06  7.700000e+06   \n",
       "50%    2032.500000           3.000000   5.100000e+06  1.450000e+07   \n",
       "75%    3048.250000           4.000000   7.500000e+06  2.140000e+07   \n",
       "max    4269.000000           5.000000   9.900000e+06  3.950000e+07   \n",
       "\n",
       "         loan_term   cibil_score   residential_assets_value  \\\n",
       "count  4028.000000   4028.000000               4.028000e+03   \n",
       "mean     10.890765    546.520854               7.283044e+06   \n",
       "std       5.711288    236.550255               6.553892e+06   \n",
       "min       2.000000      0.000000              -1.000000e+05   \n",
       "25%       6.000000    407.000000               1.900000e+06   \n",
       "50%      10.000000    569.000000               5.400000e+06   \n",
       "75%      16.000000    730.000000               1.112500e+07   \n",
       "max      20.000000    900.000000               2.910000e+07   \n",
       "\n",
       "        commercial_assets_value   luxury_assets_value   bank_asset_value  \n",
       "count              4.028000e+03          4.028000e+03       4.028000e+03  \n",
       "mean               4.985228e+06          1.514737e+07       4.982920e+06  \n",
       "std                4.394239e+06          9.109618e+06       3.249115e+06  \n",
       "min                0.000000e+00          3.000000e+05       0.000000e+00  \n",
       "25%                1.400000e+06          7.500000e+06       2.400000e+06  \n",
       "50%                3.700000e+06          1.460000e+07       4.600000e+06  \n",
       "75%                7.700000e+06          2.170000e+07       7.100000e+06  \n",
       "max                1.940000e+07          3.920000e+07       1.470000e+07  "
      ]
     },
     "execution_count": 10,
     "metadata": {},
     "output_type": "execute_result"
    }
   ],
   "source": [
    "df.describe()"
   ]
  },
  {
   "cell_type": "code",
   "execution_count": 11,
   "metadata": {
    "id": "TemJ_qGpU_J4"
   },
   "outputs": [],
   "source": [
    "def column_scaler(column_name, df_):\n",
    "    scaler = StandardScaler()\n",
    "    return scaler.fit_transform(df_[[column_name]])\n"
   ]
  },
  {
   "cell_type": "code",
   "execution_count": 12,
   "metadata": {
    "id": "gGfm7OZ0U_J4",
    "outputId": "4ff0b4e2-aae7-496f-894f-0582e0f408a8"
   },
   "outputs": [
    {
     "data": {
      "text/plain": [
       "Index(['loan_id', ' no_of_dependents', 'City', ' education', ' self_employed',\n",
       "       ' income_annum', ' loan_amount', ' loan_term', ' cibil_score',\n",
       "       ' residential_assets_value', ' commercial_assets_value',\n",
       "       ' luxury_assets_value', ' bank_asset_value', ' loan_status'],\n",
       "      dtype='object')"
      ]
     },
     "execution_count": 12,
     "metadata": {},
     "output_type": "execute_result"
    }
   ],
   "source": [
    "df.columns"
   ]
  },
  {
   "cell_type": "code",
   "execution_count": 13,
   "metadata": {
    "id": "sr1ZlwJzU_J4"
   },
   "outputs": [],
   "source": [
    "df.columns = [x.strip() for x in df.columns]\n",
    "df.columns = [x.lower() for x in df.columns]"
   ]
  },
  {
   "cell_type": "code",
   "execution_count": 14,
   "metadata": {
    "id": "cXXngcD-U_J4"
   },
   "outputs": [],
   "source": [
    "numeric_columns = [\"no_of_dependents\", \"income_annum\", \"loan_amount\", \"cibil_score\", \"residential_assets_value\",\n",
    "                  \"commercial_assets_value\", \"luxury_assets_value\", \"bank_asset_value\"]"
   ]
  },
  {
   "cell_type": "code",
   "execution_count": 15,
   "metadata": {
    "id": "R_6rxTKcU_J5"
   },
   "outputs": [],
   "source": [
    "for num_col in numeric_columns:\n",
    "    df[num_col] = column_scaler(column_name=num_col, df_=df)"
   ]
  },
  {
   "cell_type": "code",
   "execution_count": 16,
   "metadata": {
    "id": "CzVnInnsU_J5"
   },
   "outputs": [],
   "source": [
    "# # categorical columns\n",
    "# df['City'] = df['City'].astype('category')\n",
    "# df['education'] = df['education'].astype('category')\n",
    "# df['self_employed'] = df['self_employed'].astype('category')\n",
    "# cat_columns = df.select_dtypes(['category']).columns\n",
    "# df[cat_columns] = df[cat_columns].apply(lambda x: x.cat.codes)"
   ]
  },
  {
   "cell_type": "code",
   "execution_count": 17,
   "metadata": {
    "id": "lbYmFQsgU_J5"
   },
   "outputs": [],
   "source": [
    "df = pd.get_dummies(df, columns=['city'])\n",
    "df = pd.get_dummies(df, columns=['education'])\n",
    "df = pd.get_dummies(df, columns=['self_employed'])"
   ]
  },
  {
   "cell_type": "code",
   "execution_count": 18,
   "metadata": {
    "id": "cdHT8ZE6U_J5",
    "outputId": "312463a4-96b5-4754-c8ec-5f3c5066b976"
   },
   "outputs": [
    {
     "data": {
      "text/html": [
       "<div>\n",
       "<style scoped>\n",
       "    .dataframe tbody tr th:only-of-type {\n",
       "        vertical-align: middle;\n",
       "    }\n",
       "\n",
       "    .dataframe tbody tr th {\n",
       "        vertical-align: top;\n",
       "    }\n",
       "\n",
       "    .dataframe thead th {\n",
       "        text-align: right;\n",
       "    }\n",
       "</style>\n",
       "<table border=\"1\" class=\"dataframe\">\n",
       "  <thead>\n",
       "    <tr style=\"text-align: right;\">\n",
       "      <th></th>\n",
       "      <th>loan_id</th>\n",
       "      <th>no_of_dependents</th>\n",
       "      <th>income_annum</th>\n",
       "      <th>loan_amount</th>\n",
       "      <th>loan_term</th>\n",
       "      <th>cibil_score</th>\n",
       "      <th>residential_assets_value</th>\n",
       "      <th>commercial_assets_value</th>\n",
       "      <th>luxury_assets_value</th>\n",
       "      <th>bank_asset_value</th>\n",
       "      <th>loan_status</th>\n",
       "      <th>city_Ankara</th>\n",
       "      <th>city_Bursa</th>\n",
       "      <th>city_Erzurum</th>\n",
       "      <th>city_Ýstanbul</th>\n",
       "      <th>city_Ýzmir</th>\n",
       "      <th>education_ Graduate</th>\n",
       "      <th>education_ Not Graduate</th>\n",
       "      <th>self_employed_ No</th>\n",
       "      <th>self_employed_ Yes</th>\n",
       "    </tr>\n",
       "  </thead>\n",
       "  <tbody>\n",
       "    <tr>\n",
       "      <th>0</th>\n",
       "      <td>1</td>\n",
       "      <td>-0.290455</td>\n",
       "      <td>1.617804</td>\n",
       "      <td>1.632518</td>\n",
       "      <td>12</td>\n",
       "      <td>0.978684</td>\n",
       "      <td>-0.745153</td>\n",
       "      <td>2.871109</td>\n",
       "      <td>0.829186</td>\n",
       "      <td>0.928701</td>\n",
       "      <td>Approved</td>\n",
       "      <td>1</td>\n",
       "      <td>0</td>\n",
       "      <td>0</td>\n",
       "      <td>0</td>\n",
       "      <td>0</td>\n",
       "      <td>1</td>\n",
       "      <td>0</td>\n",
       "      <td>1</td>\n",
       "      <td>0</td>\n",
       "    </tr>\n",
       "    <tr>\n",
       "      <th>1</th>\n",
       "      <td>2</td>\n",
       "      <td>-1.468653</td>\n",
       "      <td>-0.342940</td>\n",
       "      <td>-0.324916</td>\n",
       "      <td>8</td>\n",
       "      <td>-0.547609</td>\n",
       "      <td>-0.699373</td>\n",
       "      <td>-0.633915</td>\n",
       "      <td>-0.696863</td>\n",
       "      <td>-0.518027</td>\n",
       "      <td>Rejected</td>\n",
       "      <td>1</td>\n",
       "      <td>0</td>\n",
       "      <td>0</td>\n",
       "      <td>0</td>\n",
       "      <td>0</td>\n",
       "      <td>0</td>\n",
       "      <td>1</td>\n",
       "      <td>0</td>\n",
       "      <td>1</td>\n",
       "    </tr>\n",
       "    <tr>\n",
       "      <th>2</th>\n",
       "      <td>3</td>\n",
       "      <td>0.298645</td>\n",
       "      <td>1.439555</td>\n",
       "      <td>1.610400</td>\n",
       "      <td>20</td>\n",
       "      <td>-2.310666</td>\n",
       "      <td>-0.027932</td>\n",
       "      <td>-0.110437</td>\n",
       "      <td>1.992936</td>\n",
       "      <td>2.406209</td>\n",
       "      <td>Rejected</td>\n",
       "      <td>1</td>\n",
       "      <td>0</td>\n",
       "      <td>0</td>\n",
       "      <td>0</td>\n",
       "      <td>0</td>\n",
       "      <td>1</td>\n",
       "      <td>0</td>\n",
       "      <td>1</td>\n",
       "      <td>0</td>\n",
       "    </tr>\n",
       "    <tr>\n",
       "      <th>3</th>\n",
       "      <td>4</td>\n",
       "      <td>0.298645</td>\n",
       "      <td>1.118706</td>\n",
       "      <td>1.720990</td>\n",
       "      <td>8</td>\n",
       "      <td>-2.310666</td>\n",
       "      <td>1.665928</td>\n",
       "      <td>-0.383556</td>\n",
       "      <td>0.895059</td>\n",
       "      <td>0.897919</td>\n",
       "      <td>Rejected</td>\n",
       "      <td>1</td>\n",
       "      <td>0</td>\n",
       "      <td>0</td>\n",
       "      <td>0</td>\n",
       "      <td>0</td>\n",
       "      <td>1</td>\n",
       "      <td>0</td>\n",
       "      <td>1</td>\n",
       "      <td>0</td>\n",
       "    </tr>\n",
       "    <tr>\n",
       "      <th>4</th>\n",
       "      <td>5</td>\n",
       "      <td>1.476843</td>\n",
       "      <td>1.689104</td>\n",
       "      <td>1.002158</td>\n",
       "      <td>20</td>\n",
       "      <td>-2.310666</td>\n",
       "      <td>0.780848</td>\n",
       "      <td>0.731679</td>\n",
       "      <td>1.564764</td>\n",
       "      <td>0.005258</td>\n",
       "      <td>Rejected</td>\n",
       "      <td>1</td>\n",
       "      <td>0</td>\n",
       "      <td>0</td>\n",
       "      <td>0</td>\n",
       "      <td>0</td>\n",
       "      <td>0</td>\n",
       "      <td>1</td>\n",
       "      <td>0</td>\n",
       "      <td>1</td>\n",
       "    </tr>\n",
       "  </tbody>\n",
       "</table>\n",
       "</div>"
      ],
      "text/plain": [
       "   loan_id  no_of_dependents  income_annum  loan_amount  loan_term  \\\n",
       "0        1         -0.290455      1.617804     1.632518         12   \n",
       "1        2         -1.468653     -0.342940    -0.324916          8   \n",
       "2        3          0.298645      1.439555     1.610400         20   \n",
       "3        4          0.298645      1.118706     1.720990          8   \n",
       "4        5          1.476843      1.689104     1.002158         20   \n",
       "\n",
       "   cibil_score  residential_assets_value  commercial_assets_value  \\\n",
       "0     0.978684                 -0.745153                 2.871109   \n",
       "1    -0.547609                 -0.699373                -0.633915   \n",
       "2    -2.310666                 -0.027932                -0.110437   \n",
       "3    -2.310666                  1.665928                -0.383556   \n",
       "4    -2.310666                  0.780848                 0.731679   \n",
       "\n",
       "   luxury_assets_value  bank_asset_value loan_status  city_Ankara  city_Bursa  \\\n",
       "0             0.829186          0.928701    Approved            1           0   \n",
       "1            -0.696863         -0.518027    Rejected            1           0   \n",
       "2             1.992936          2.406209    Rejected            1           0   \n",
       "3             0.895059          0.897919    Rejected            1           0   \n",
       "4             1.564764          0.005258    Rejected            1           0   \n",
       "\n",
       "   city_Erzurum  city_Ýstanbul  city_Ýzmir  education_ Graduate  \\\n",
       "0             0              0           0                    1   \n",
       "1             0              0           0                    0   \n",
       "2             0              0           0                    1   \n",
       "3             0              0           0                    1   \n",
       "4             0              0           0                    0   \n",
       "\n",
       "   education_ Not Graduate  self_employed_ No  self_employed_ Yes  \n",
       "0                        0                  1                   0  \n",
       "1                        1                  0                   1  \n",
       "2                        0                  1                   0  \n",
       "3                        0                  1                   0  \n",
       "4                        1                  0                   1  "
      ]
     },
     "execution_count": 18,
     "metadata": {},
     "output_type": "execute_result"
    }
   ],
   "source": [
    "df.head()"
   ]
  },
  {
   "cell_type": "code",
   "execution_count": 19,
   "metadata": {
    "id": "Y0g1zWBDU_J5"
   },
   "outputs": [],
   "source": [
    "df.columns =  [\"_\".join(x.lower().split(\" \")).replace(\"ý\", \"i\") for x in df.columns]"
   ]
  },
  {
   "cell_type": "code",
   "execution_count": 20,
   "metadata": {
    "id": "AaQaKWZZU_J5"
   },
   "outputs": [],
   "source": [
    "df['loan_status'] = df['loan_status'].astype('category')\n",
    "cat_columns = df.select_dtypes(['category']).columns\n",
    "df[cat_columns] = df[cat_columns].apply(lambda x: x.cat.codes)"
   ]
  },
  {
   "cell_type": "code",
   "execution_count": 21,
   "metadata": {
    "id": "gC_J2fBwU_J5",
    "outputId": "6068960b-a6db-4fed-da39-d14ed8d41b5f"
   },
   "outputs": [
    {
     "data": {
      "text/html": [
       "<div>\n",
       "<style scoped>\n",
       "    .dataframe tbody tr th:only-of-type {\n",
       "        vertical-align: middle;\n",
       "    }\n",
       "\n",
       "    .dataframe tbody tr th {\n",
       "        vertical-align: top;\n",
       "    }\n",
       "\n",
       "    .dataframe thead th {\n",
       "        text-align: right;\n",
       "    }\n",
       "</style>\n",
       "<table border=\"1\" class=\"dataframe\">\n",
       "  <thead>\n",
       "    <tr style=\"text-align: right;\">\n",
       "      <th></th>\n",
       "      <th>loan_id</th>\n",
       "      <th>no_of_dependents</th>\n",
       "      <th>income_annum</th>\n",
       "      <th>loan_amount</th>\n",
       "      <th>loan_term</th>\n",
       "      <th>cibil_score</th>\n",
       "      <th>residential_assets_value</th>\n",
       "      <th>commercial_assets_value</th>\n",
       "      <th>luxury_assets_value</th>\n",
       "      <th>bank_asset_value</th>\n",
       "      <th>loan_status</th>\n",
       "      <th>city_ankara</th>\n",
       "      <th>city_bursa</th>\n",
       "      <th>city_erzurum</th>\n",
       "      <th>city_istanbul</th>\n",
       "      <th>city_izmir</th>\n",
       "      <th>education__graduate</th>\n",
       "      <th>education__not_graduate</th>\n",
       "      <th>self_employed__no</th>\n",
       "      <th>self_employed__yes</th>\n",
       "    </tr>\n",
       "  </thead>\n",
       "  <tbody>\n",
       "    <tr>\n",
       "      <th>0</th>\n",
       "      <td>1</td>\n",
       "      <td>-0.290455</td>\n",
       "      <td>1.617804</td>\n",
       "      <td>1.632518</td>\n",
       "      <td>12</td>\n",
       "      <td>0.978684</td>\n",
       "      <td>-0.745153</td>\n",
       "      <td>2.871109</td>\n",
       "      <td>0.829186</td>\n",
       "      <td>0.928701</td>\n",
       "      <td>0</td>\n",
       "      <td>1</td>\n",
       "      <td>0</td>\n",
       "      <td>0</td>\n",
       "      <td>0</td>\n",
       "      <td>0</td>\n",
       "      <td>1</td>\n",
       "      <td>0</td>\n",
       "      <td>1</td>\n",
       "      <td>0</td>\n",
       "    </tr>\n",
       "    <tr>\n",
       "      <th>1</th>\n",
       "      <td>2</td>\n",
       "      <td>-1.468653</td>\n",
       "      <td>-0.342940</td>\n",
       "      <td>-0.324916</td>\n",
       "      <td>8</td>\n",
       "      <td>-0.547609</td>\n",
       "      <td>-0.699373</td>\n",
       "      <td>-0.633915</td>\n",
       "      <td>-0.696863</td>\n",
       "      <td>-0.518027</td>\n",
       "      <td>1</td>\n",
       "      <td>1</td>\n",
       "      <td>0</td>\n",
       "      <td>0</td>\n",
       "      <td>0</td>\n",
       "      <td>0</td>\n",
       "      <td>0</td>\n",
       "      <td>1</td>\n",
       "      <td>0</td>\n",
       "      <td>1</td>\n",
       "    </tr>\n",
       "    <tr>\n",
       "      <th>2</th>\n",
       "      <td>3</td>\n",
       "      <td>0.298645</td>\n",
       "      <td>1.439555</td>\n",
       "      <td>1.610400</td>\n",
       "      <td>20</td>\n",
       "      <td>-2.310666</td>\n",
       "      <td>-0.027932</td>\n",
       "      <td>-0.110437</td>\n",
       "      <td>1.992936</td>\n",
       "      <td>2.406209</td>\n",
       "      <td>1</td>\n",
       "      <td>1</td>\n",
       "      <td>0</td>\n",
       "      <td>0</td>\n",
       "      <td>0</td>\n",
       "      <td>0</td>\n",
       "      <td>1</td>\n",
       "      <td>0</td>\n",
       "      <td>1</td>\n",
       "      <td>0</td>\n",
       "    </tr>\n",
       "    <tr>\n",
       "      <th>3</th>\n",
       "      <td>4</td>\n",
       "      <td>0.298645</td>\n",
       "      <td>1.118706</td>\n",
       "      <td>1.720990</td>\n",
       "      <td>8</td>\n",
       "      <td>-2.310666</td>\n",
       "      <td>1.665928</td>\n",
       "      <td>-0.383556</td>\n",
       "      <td>0.895059</td>\n",
       "      <td>0.897919</td>\n",
       "      <td>1</td>\n",
       "      <td>1</td>\n",
       "      <td>0</td>\n",
       "      <td>0</td>\n",
       "      <td>0</td>\n",
       "      <td>0</td>\n",
       "      <td>1</td>\n",
       "      <td>0</td>\n",
       "      <td>1</td>\n",
       "      <td>0</td>\n",
       "    </tr>\n",
       "    <tr>\n",
       "      <th>4</th>\n",
       "      <td>5</td>\n",
       "      <td>1.476843</td>\n",
       "      <td>1.689104</td>\n",
       "      <td>1.002158</td>\n",
       "      <td>20</td>\n",
       "      <td>-2.310666</td>\n",
       "      <td>0.780848</td>\n",
       "      <td>0.731679</td>\n",
       "      <td>1.564764</td>\n",
       "      <td>0.005258</td>\n",
       "      <td>1</td>\n",
       "      <td>1</td>\n",
       "      <td>0</td>\n",
       "      <td>0</td>\n",
       "      <td>0</td>\n",
       "      <td>0</td>\n",
       "      <td>0</td>\n",
       "      <td>1</td>\n",
       "      <td>0</td>\n",
       "      <td>1</td>\n",
       "    </tr>\n",
       "    <tr>\n",
       "      <th>...</th>\n",
       "      <td>...</td>\n",
       "      <td>...</td>\n",
       "      <td>...</td>\n",
       "      <td>...</td>\n",
       "      <td>...</td>\n",
       "      <td>...</td>\n",
       "      <td>...</td>\n",
       "      <td>...</td>\n",
       "      <td>...</td>\n",
       "      <td>...</td>\n",
       "      <td>...</td>\n",
       "      <td>...</td>\n",
       "      <td>...</td>\n",
       "      <td>...</td>\n",
       "      <td>...</td>\n",
       "      <td>...</td>\n",
       "      <td>...</td>\n",
       "      <td>...</td>\n",
       "      <td>...</td>\n",
       "      <td>...</td>\n",
       "    </tr>\n",
       "    <tr>\n",
       "      <th>4264</th>\n",
       "      <td>4265</td>\n",
       "      <td>1.476843</td>\n",
       "      <td>-1.448086</td>\n",
       "      <td>-1.419752</td>\n",
       "      <td>12</td>\n",
       "      <td>-0.970404</td>\n",
       "      <td>-0.684113</td>\n",
       "      <td>-1.020833</td>\n",
       "      <td>-1.300696</td>\n",
       "      <td>-1.287563</td>\n",
       "      <td>1</td>\n",
       "      <td>0</td>\n",
       "      <td>0</td>\n",
       "      <td>0</td>\n",
       "      <td>0</td>\n",
       "      <td>1</td>\n",
       "      <td>1</td>\n",
       "      <td>0</td>\n",
       "      <td>0</td>\n",
       "      <td>1</td>\n",
       "    </tr>\n",
       "    <tr>\n",
       "      <th>4265</th>\n",
       "      <td>4266</td>\n",
       "      <td>-1.468653</td>\n",
       "      <td>-0.628139</td>\n",
       "      <td>-0.424446</td>\n",
       "      <td>20</td>\n",
       "      <td>0.052761</td>\n",
       "      <td>-0.470473</td>\n",
       "      <td>-0.474596</td>\n",
       "      <td>-0.455330</td>\n",
       "      <td>-0.948967</td>\n",
       "      <td>0</td>\n",
       "      <td>0</td>\n",
       "      <td>0</td>\n",
       "      <td>0</td>\n",
       "      <td>0</td>\n",
       "      <td>1</td>\n",
       "      <td>0</td>\n",
       "      <td>1</td>\n",
       "      <td>0</td>\n",
       "      <td>1</td>\n",
       "    </tr>\n",
       "    <tr>\n",
       "      <th>4266</th>\n",
       "      <td>4267</td>\n",
       "      <td>-0.290455</td>\n",
       "      <td>0.512657</td>\n",
       "      <td>0.968981</td>\n",
       "      <td>18</td>\n",
       "      <td>-0.378490</td>\n",
       "      <td>-0.928273</td>\n",
       "      <td>1.687594</td>\n",
       "      <td>0.324163</td>\n",
       "      <td>0.713231</td>\n",
       "      <td>1</td>\n",
       "      <td>0</td>\n",
       "      <td>0</td>\n",
       "      <td>0</td>\n",
       "      <td>0</td>\n",
       "      <td>1</td>\n",
       "      <td>0</td>\n",
       "      <td>1</td>\n",
       "      <td>1</td>\n",
       "      <td>0</td>\n",
       "    </tr>\n",
       "    <tr>\n",
       "      <th>4267</th>\n",
       "      <td>4268</td>\n",
       "      <td>-0.879554</td>\n",
       "      <td>-0.342940</td>\n",
       "      <td>-0.258562</td>\n",
       "      <td>8</td>\n",
       "      <td>0.987140</td>\n",
       "      <td>0.139928</td>\n",
       "      <td>-0.975313</td>\n",
       "      <td>-0.114988</td>\n",
       "      <td>0.251509</td>\n",
       "      <td>0</td>\n",
       "      <td>0</td>\n",
       "      <td>0</td>\n",
       "      <td>0</td>\n",
       "      <td>0</td>\n",
       "      <td>1</td>\n",
       "      <td>0</td>\n",
       "      <td>1</td>\n",
       "      <td>1</td>\n",
       "      <td>0</td>\n",
       "    </tr>\n",
       "    <tr>\n",
       "      <th>4268</th>\n",
       "      <td>4269</td>\n",
       "      <td>-0.879554</td>\n",
       "      <td>1.475204</td>\n",
       "      <td>1.610400</td>\n",
       "      <td>10</td>\n",
       "      <td>0.255703</td>\n",
       "      <td>1.604888</td>\n",
       "      <td>1.551035</td>\n",
       "      <td>2.256427</td>\n",
       "      <td>2.159958</td>\n",
       "      <td>0</td>\n",
       "      <td>0</td>\n",
       "      <td>0</td>\n",
       "      <td>0</td>\n",
       "      <td>0</td>\n",
       "      <td>1</td>\n",
       "      <td>1</td>\n",
       "      <td>0</td>\n",
       "      <td>1</td>\n",
       "      <td>0</td>\n",
       "    </tr>\n",
       "  </tbody>\n",
       "</table>\n",
       "<p>4028 rows × 20 columns</p>\n",
       "</div>"
      ],
      "text/plain": [
       "      loan_id  no_of_dependents  income_annum  loan_amount  loan_term  \\\n",
       "0           1         -0.290455      1.617804     1.632518         12   \n",
       "1           2         -1.468653     -0.342940    -0.324916          8   \n",
       "2           3          0.298645      1.439555     1.610400         20   \n",
       "3           4          0.298645      1.118706     1.720990          8   \n",
       "4           5          1.476843      1.689104     1.002158         20   \n",
       "...       ...               ...           ...          ...        ...   \n",
       "4264     4265          1.476843     -1.448086    -1.419752         12   \n",
       "4265     4266         -1.468653     -0.628139    -0.424446         20   \n",
       "4266     4267         -0.290455      0.512657     0.968981         18   \n",
       "4267     4268         -0.879554     -0.342940    -0.258562          8   \n",
       "4268     4269         -0.879554      1.475204     1.610400         10   \n",
       "\n",
       "      cibil_score  residential_assets_value  commercial_assets_value  \\\n",
       "0        0.978684                 -0.745153                 2.871109   \n",
       "1       -0.547609                 -0.699373                -0.633915   \n",
       "2       -2.310666                 -0.027932                -0.110437   \n",
       "3       -2.310666                  1.665928                -0.383556   \n",
       "4       -2.310666                  0.780848                 0.731679   \n",
       "...           ...                       ...                      ...   \n",
       "4264    -0.970404                 -0.684113                -1.020833   \n",
       "4265     0.052761                 -0.470473                -0.474596   \n",
       "4266    -0.378490                 -0.928273                 1.687594   \n",
       "4267     0.987140                  0.139928                -0.975313   \n",
       "4268     0.255703                  1.604888                 1.551035   \n",
       "\n",
       "      luxury_assets_value  bank_asset_value  loan_status  city_ankara  \\\n",
       "0                0.829186          0.928701            0            1   \n",
       "1               -0.696863         -0.518027            1            1   \n",
       "2                1.992936          2.406209            1            1   \n",
       "3                0.895059          0.897919            1            1   \n",
       "4                1.564764          0.005258            1            1   \n",
       "...                   ...               ...          ...          ...   \n",
       "4264            -1.300696         -1.287563            1            0   \n",
       "4265            -0.455330         -0.948967            0            0   \n",
       "4266             0.324163          0.713231            1            0   \n",
       "4267            -0.114988          0.251509            0            0   \n",
       "4268             2.256427          2.159958            0            0   \n",
       "\n",
       "      city_bursa  city_erzurum  city_istanbul  city_izmir  \\\n",
       "0              0             0              0           0   \n",
       "1              0             0              0           0   \n",
       "2              0             0              0           0   \n",
       "3              0             0              0           0   \n",
       "4              0             0              0           0   \n",
       "...          ...           ...            ...         ...   \n",
       "4264           0             0              0           1   \n",
       "4265           0             0              0           1   \n",
       "4266           0             0              0           1   \n",
       "4267           0             0              0           1   \n",
       "4268           0             0              0           1   \n",
       "\n",
       "      education__graduate  education__not_graduate  self_employed__no  \\\n",
       "0                       1                        0                  1   \n",
       "1                       0                        1                  0   \n",
       "2                       1                        0                  1   \n",
       "3                       1                        0                  1   \n",
       "4                       0                        1                  0   \n",
       "...                   ...                      ...                ...   \n",
       "4264                    1                        0                  0   \n",
       "4265                    0                        1                  0   \n",
       "4266                    0                        1                  1   \n",
       "4267                    0                        1                  1   \n",
       "4268                    1                        0                  1   \n",
       "\n",
       "      self_employed__yes  \n",
       "0                      0  \n",
       "1                      1  \n",
       "2                      0  \n",
       "3                      0  \n",
       "4                      1  \n",
       "...                  ...  \n",
       "4264                   1  \n",
       "4265                   1  \n",
       "4266                   0  \n",
       "4267                   0  \n",
       "4268                   0  \n",
       "\n",
       "[4028 rows x 20 columns]"
      ]
     },
     "execution_count": 21,
     "metadata": {},
     "output_type": "execute_result"
    }
   ],
   "source": [
    "df"
   ]
  },
  {
   "cell_type": "code",
   "execution_count": 22,
   "metadata": {
    "id": "TwvJ3UveU_J6"
   },
   "outputs": [],
   "source": [
    "y = df['loan_status']\n",
    "X = df.drop(['loan_status', \"loan_id\"],axis=1)"
   ]
  },
  {
   "cell_type": "code",
   "execution_count": 23,
   "metadata": {},
   "outputs": [
    {
     "data": {
      "text/plain": [
       "Index(['no_of_dependents', 'income_annum', 'loan_amount', 'loan_term',\n",
       "       'cibil_score', 'residential_assets_value', 'commercial_assets_value',\n",
       "       'luxury_assets_value', 'bank_asset_value', 'city_ankara', 'city_bursa',\n",
       "       'city_erzurum', 'city_istanbul', 'city_izmir', 'education__graduate',\n",
       "       'education__not_graduate', 'self_employed__no', 'self_employed__yes'],\n",
       "      dtype='object')"
      ]
     },
     "execution_count": 23,
     "metadata": {},
     "output_type": "execute_result"
    }
   ],
   "source": [
    "X.columns"
   ]
  },
  {
   "cell_type": "code",
   "execution_count": 24,
   "metadata": {
    "id": "xciFPpIMU_J6"
   },
   "outputs": [],
   "source": [
    "# split data\n",
    "X_train, X_test, y_train, y_test = train_test_split(X, y, test_size=0.33, random_state=42, stratify=y)"
   ]
  },
  {
   "cell_type": "code",
   "execution_count": 25,
   "metadata": {},
   "outputs": [
    {
     "data": {
      "text/plain": [
       "0    1684\n",
       "1    1014\n",
       "Name: loan_status, dtype: int64"
      ]
     },
     "execution_count": 25,
     "metadata": {},
     "output_type": "execute_result"
    }
   ],
   "source": [
    "# Check the balance of the dataset (train set)\n",
    "y_train.value_counts()"
   ]
  },
  {
   "cell_type": "code",
   "execution_count": 26,
   "metadata": {},
   "outputs": [
    {
     "data": {
      "text/plain": [
       "0    830\n",
       "1    500\n",
       "Name: loan_status, dtype: int64"
      ]
     },
     "execution_count": 26,
     "metadata": {},
     "output_type": "execute_result"
    }
   ],
   "source": [
    "# Check the balance of the dataset (train set)\n",
    "y_test.value_counts()"
   ]
  },
  {
   "cell_type": "markdown",
   "metadata": {},
   "source": [
    "### Train data is not perfectly balanced. But since our data is not big enough, this split can be used to train and evaulate the model."
   ]
  },
  {
   "cell_type": "code",
   "execution_count": 27,
   "metadata": {},
   "outputs": [
    {
     "data": {
      "text/plain": [
       "loan_id                                957\n",
       " no_of_dependents                        0\n",
       "City                                 Bursa\n",
       " education                    Not Graduate\n",
       " self_employed                         Yes\n",
       " income_annum                      9100000\n",
       " loan_amount                      22000000\n",
       " loan_term                              12\n",
       " cibil_score                         387.0\n",
       " residential_assets_value       25300000.0\n",
       " commercial_assets_value          15600000\n",
       " luxury_assets_value              31700000\n",
       " bank_asset_value                  7000000\n",
       " loan_status                      Rejected\n",
       "Name: 956, dtype: object"
      ]
     },
     "execution_count": 27,
     "metadata": {},
     "output_type": "execute_result"
    }
   ],
   "source": [
    "data.iloc[956]"
   ]
  },
  {
   "cell_type": "code",
   "execution_count": 28,
   "metadata": {
    "id": "P8zGRQCGU_J6",
    "outputId": "f230bdd9-2562-4720-8a50-7f53234c880a"
   },
   "outputs": [
    {
     "name": "stdout",
     "output_type": "stream",
     "text": [
      "Accuracy Score:  0.8097744360902256\n",
      "716 114 139 361\n"
     ]
    }
   ],
   "source": [
    "# Try KNN Classsifier\n",
    "knnclassifier = KNeighborsClassifier(n_neighbors = int(X.shape[1]/2))\n",
    "knnclassifier.fit(X_train, y_train)\n",
    "prediction = knnclassifier.predict(X_test)\n",
    "print(\"Accuracy Score: \", accuracy_score(y_test, prediction))\n",
    "\n",
    "tneg, fpos, fneg, tpos = confusion_matrix(y_test, prediction).ravel()\n",
    "print(tneg,fpos,fneg,tpos)"
   ]
  },
  {
   "cell_type": "code",
   "execution_count": 29,
   "metadata": {
    "id": "bNPWryLNU_J6",
    "outputId": "b74bf0d7-a039-4a11-f757-6034a6a4d00c"
   },
   "outputs": [
    {
     "name": "stdout",
     "output_type": "stream",
     "text": [
      "Score:  0.8172932330827067\n",
      "726 104 139 361\n"
     ]
    }
   ],
   "source": [
    "# Try Logistic Regression Classsifier\n",
    "lregclassifier = LogisticRegression()\n",
    "lregclassifier.fit(X_train,y_train)\n",
    "lregprediction = lregclassifier.predict(X_test)\n",
    "print(\"Score: \",lregclassifier.score(X_test, y_test))\n",
    "\n",
    "tneg, fpos, fneg, tpos = confusion_matrix(y_test, lregprediction).ravel()\n",
    "print(tneg,fpos,fneg,tpos)"
   ]
  },
  {
   "cell_type": "code",
   "execution_count": 30,
   "metadata": {
    "id": "RycNW6hsU_J6",
    "outputId": "39f4cc32-c71b-4c83-a070-d1a2b29d90b3"
   },
   "outputs": [
    {
     "name": "stdout",
     "output_type": "stream",
     "text": [
      "Accuracy Score:  0.8353383458646616\n",
      "708 122 97 403\n"
     ]
    }
   ],
   "source": [
    "# Try SVC Classsifier \n",
    "\n",
    "from sklearn.svm import SVC\n",
    "clf = SVC(gamma='auto', kernel ='linear')\n",
    "clf.fit(X_train, y_train)\n",
    "pred = clf.predict(X_test)\n",
    "print(\"Accuracy Score: \", accuracy_score(y_test, pred))\n",
    "\n",
    "tneg, fpos, fneg, tpos = confusion_matrix(y_test, pred).ravel()\n",
    "print(tneg,fpos,fneg,tpos)"
   ]
  },
  {
   "cell_type": "code",
   "execution_count": 31,
   "metadata": {
    "id": "JwBaDSszU_J6",
    "outputId": "79b5b322-53a2-479e-8e47-4304dade1731"
   },
   "outputs": [
    {
     "name": "stdout",
     "output_type": "stream",
     "text": [
      "Accuracy Score:  0.9466165413533835\n",
      "805 25 46 454\n"
     ]
    }
   ],
   "source": [
    "# Try Xgboost Classsifier\n",
    "\n",
    "XGBclf = XGBClassifier()\n",
    "XGBclf.fit(X_train,y_train)\n",
    "\n",
    "XGBpred = XGBclf.predict(X_test)\n",
    "print(\"Accuracy Score: \", accuracy_score(y_test, XGBpred))\n",
    "\n",
    "tneg, fpos, fneg, tpos = confusion_matrix(y_test, XGBpred).ravel()\n",
    "print(tneg,fpos,fneg,tpos)"
   ]
  },
  {
   "cell_type": "code",
   "execution_count": 32,
   "metadata": {},
   "outputs": [
    {
     "name": "stdout",
     "output_type": "stream",
     "text": [
      "              precision    recall  f1-score   support\n",
      "\n",
      "           0     0.9459    0.9699    0.9578       830\n",
      "           1     0.9478    0.9080    0.9275       500\n",
      "\n",
      "    accuracy                         0.9466      1330\n",
      "   macro avg     0.9469    0.9389    0.9426      1330\n",
      "weighted avg     0.9466    0.9466    0.9464      1330\n",
      "\n"
     ]
    }
   ],
   "source": [
    "# Get Classification Report\n",
    "from sklearn.metrics import classification_report, confusion_matrix\n",
    "print(classification_report(y_test, XGBpred, digits=4))"
   ]
  },
  {
   "cell_type": "code",
   "execution_count": 33,
   "metadata": {
    "id": "tezHYavOU_J7",
    "outputId": "c8e5eb7a-5427-48fa-8e54-d32fffc15c29"
   },
   "outputs": [
    {
     "name": "stdout",
     "output_type": "stream",
     "text": [
      "Accuracy Score:  0.6932330827067669\n",
      "456 374 34 466\n"
     ]
    }
   ],
   "source": [
    "# Try SGD Classsifier\n",
    "\n",
    "SGDclf = SGDClassifier(loss='modified_huber',shuffle=True)\n",
    "SGDclf.fit(X_train,y_train)\n",
    "\n",
    "SGDpred = SGDclf.predict(X_test)\n",
    "print(\"Accuracy Score: \", accuracy_score(y_test, SGDpred))\n",
    "\n",
    "tneg, fpos, fneg, tpos = confusion_matrix(y_test, SGDpred).ravel()\n",
    "print(tneg,fpos,fneg,tpos)"
   ]
  },
  {
   "cell_type": "code",
   "execution_count": 34,
   "metadata": {
    "id": "y8yfsy5xU_J7"
   },
   "outputs": [],
   "source": [
    "# Save using pickle\n",
    "filename = 'loan_classification_model.sav'\n",
    "pickle.dump(XGBclf, open(filename, 'wb'))"
   ]
  },
  {
   "cell_type": "markdown",
   "metadata": {},
   "source": [
    "# Feature Importance"
   ]
  },
  {
   "cell_type": "code",
   "execution_count": 38,
   "metadata": {},
   "outputs": [
    {
     "data": {
      "text/plain": [
       "Text(0.5, 0, 'Xgboost Feature Importance')"
      ]
     },
     "execution_count": 38,
     "metadata": {},
     "output_type": "execute_result"
    },
    {
     "data": {
      "image/png": "[encoded data removed]",
      "text/plain": [
       "<Figure size 432x288 with 1 Axes>"
      ]
     },
     "metadata": {
      "needs_background": "light"
     },
     "output_type": "display_data"
    }
   ],
   "source": [
    "# BUilt-in feature importance\n",
    "\n",
    "\n",
    "sorted_idx = XGBclf.feature_importances_.argsort()\n",
    "plt.barh(X_train.columns[sorted_idx], XGBclf.feature_importances_[sorted_idx])\n",
    "plt.xlabel(\"Xgboost Feature Importance\")\n"
   ]
  },
  {
   "cell_type": "code",
   "execution_count": 39,
   "metadata": {},
   "outputs": [
    {
     "data": {
      "text/plain": [
       "Text(0.5, 0, 'Permutation Importance')"
      ]
     },
     "execution_count": 39,
     "metadata": {},
     "output_type": "execute_result"
    },
    {
     "data": {
      "image/png": "[encoded data removed]",
      "text/plain": [
       "<Figure size 432x288 with 1 Axes>"
      ]
     },
     "metadata": {
      "needs_background": "light"
     },
     "output_type": "display_data"
    }
   ],
   "source": [
    "# Permutation based importance\n",
    "\n",
    "from sklearn.inspection import permutation_importance\n",
    "\n",
    "perm_importance = permutation_importance(XGBclf, X_test, y_test)\n",
    "sorted_idx = perm_importance.importances_mean.argsort()\n",
    "plt.barh(X_train.columns[sorted_idx], perm_importance.importances_mean[sorted_idx])\n",
    "plt.xlabel(\"Permutation Importance\")"
   ]
  },
  {
   "cell_type": "markdown",
   "metadata": {},
   "source": [
    "## It look like most important feauture in the decision of the loan status, is \"cibil_score\". The second most important is \"loan_term\". "
   ]
  },
  {
   "cell_type": "markdown",
   "metadata": {},
   "source": [
    "# Selected Model: Xgboost Classifier"
   ]
  },
  {
   "cell_type": "markdown",
   "metadata": {},
   "source": [
    "Lets apply a hyperparameter tuning"
   ]
  },
  {
   "cell_type": "code",
   "execution_count": 40,
   "metadata": {},
   "outputs": [
    {
     "data": {
      "text/plain": [
       "{'base_score': 0.5,\n",
       " 'booster': 'gbtree',\n",
       " 'colsample_bylevel': 1,\n",
       " 'colsample_bynode': 1,\n",
       " 'colsample_bytree': 1,\n",
       " 'gamma': 0,\n",
       " 'learning_rate': 0.1,\n",
       " 'max_delta_step': 0,\n",
       " 'max_depth': 3,\n",
       " 'min_child_weight': 1,\n",
       " 'missing': None,\n",
       " 'n_estimators': 100,\n",
       " 'n_jobs': 1,\n",
       " 'nthread': None,\n",
       " 'objective': 'binary:logistic',\n",
       " 'random_state': 0,\n",
       " 'reg_alpha': 0,\n",
       " 'reg_lambda': 1,\n",
       " 'scale_pos_weight': 1,\n",
       " 'seed': None,\n",
       " 'silent': None,\n",
       " 'subsample': 1,\n",
       " 'verbosity': 1}"
      ]
     },
     "execution_count": 40,
     "metadata": {},
     "output_type": "execute_result"
    }
   ],
   "source": [
    "XGBclf.get_params()"
   ]
  },
  {
   "cell_type": "code",
   "execution_count": 42,
   "metadata": {},
   "outputs": [
    {
     "name": "stdout",
     "output_type": "stream",
     "text": [
      "CPU times: user 780 ms, sys: 74.6 ms, total: 855 ms\n",
      "Wall time: 8.86 s\n"
     ]
    },
    {
     "data": {
      "text/plain": [
       "GridSearchCV(cv=5,\n",
       "             estimator=XGBClassifier(colsample_bytree=0.8, max_depth=5,\n",
       "                                     n_estimators=140, nthread=4, seed=27,\n",
       "                                     subsample=0.8),\n",
       "             n_jobs=4,\n",
       "             param_grid={'max_depth': range(3, 10, 2),\n",
       "                         'min_child_weight': range(1, 6, 2)},\n",
       "             scoring='roc_auc')"
      ]
     },
     "execution_count": 42,
     "metadata": {},
     "output_type": "execute_result"
    }
   ],
   "source": [
    "%%time\n",
    "param_test1 = {\n",
    " 'max_depth':range(3,10,2),\n",
    " 'min_child_weight':range(1,6,2)\n",
    "}\n",
    "\n",
    "gsearch1 = GridSearchCV(estimator = XGBClassifier(learning_rate =0.1,\n",
    "                                                  n_estimators=140,\n",
    "                                                  max_depth=5,\n",
    "                                                  min_child_weight=1,\n",
    "                                                  gamma=0, \n",
    "                                                  subsample=0.8, \n",
    "                                                  colsample_bytree=0.8,\n",
    "                                                  objective= 'binary:logistic',\n",
    "                                                  nthread=4,\n",
    "                                                  scale_pos_weight=1,\n",
    "                                                  seed=27), \n",
    "                                                  param_grid = param_test1, \n",
    "                                                  scoring='roc_auc',\n",
    "                                                  n_jobs=4,\n",
    "                                                  cv=5)\n",
    "gsearch1.fit(X_train, y_train)\n"
   ]
  },
  {
   "cell_type": "code",
   "execution_count": 43,
   "metadata": {},
   "outputs": [
    {
     "data": {
      "text/plain": [
       "{'mean_fit_time': array([0.25889521, 0.26777582, 0.26282873, 0.38064718, 0.37074933,\n",
       "        0.36881771, 0.48050518, 0.45872049, 0.43495111, 0.55338683,\n",
       "        0.51304116, 0.48117023]),\n",
       " 'std_fit_time': array([0.00712741, 0.00536156, 0.00239489, 0.00634585, 0.0030086 ,\n",
       "        0.00581501, 0.00734253, 0.00517485, 0.00336267, 0.00934122,\n",
       "        0.00917769, 0.00603873]),\n",
       " 'mean_score_time': array([0.00351081, 0.00345907, 0.00358882, 0.00483551, 0.00452938,\n",
       "        0.00455408, 0.00564384, 0.00522413, 0.00483375, 0.00609813,\n",
       "        0.00588827, 0.0054812 ]),\n",
       " 'std_score_time': array([4.09954074e-05, 3.41804778e-05, 2.48947113e-04, 7.54278314e-05,\n",
       "        1.43960494e-04, 2.30990984e-04, 8.41226433e-05, 5.55427487e-05,\n",
       "        8.01487096e-05, 3.03069685e-05, 2.09130547e-04, 2.47934111e-04]),\n",
       " 'param_max_depth': masked_array(data=[3, 3, 3, 5, 5, 5, 7, 7, 7, 9, 9, 9],\n",
       "              mask=[False, False, False, False, False, False, False, False,\n",
       "                    False, False, False, False],\n",
       "        fill_value='?',\n",
       "             dtype=object),\n",
       " 'param_min_child_weight': masked_array(data=[1, 3, 5, 1, 3, 5, 1, 3, 5, 1, 3, 5],\n",
       "              mask=[False, False, False, False, False, False, False, False,\n",
       "                    False, False, False, False],\n",
       "        fill_value='?',\n",
       "             dtype=object),\n",
       " 'params': [{'max_depth': 3, 'min_child_weight': 1},\n",
       "  {'max_depth': 3, 'min_child_weight': 3},\n",
       "  {'max_depth': 3, 'min_child_weight': 5},\n",
       "  {'max_depth': 5, 'min_child_weight': 1},\n",
       "  {'max_depth': 5, 'min_child_weight': 3},\n",
       "  {'max_depth': 5, 'min_child_weight': 5},\n",
       "  {'max_depth': 7, 'min_child_weight': 1},\n",
       "  {'max_depth': 7, 'min_child_weight': 3},\n",
       "  {'max_depth': 7, 'min_child_weight': 5},\n",
       "  {'max_depth': 9, 'min_child_weight': 1},\n",
       "  {'max_depth': 9, 'min_child_weight': 3},\n",
       "  {'max_depth': 9, 'min_child_weight': 5}],\n",
       " 'split0_test_score': array([0.9909956 , 0.99084942, 0.99098098, 0.99267662, 0.9920773 ,\n",
       "        0.99242812, 0.99272047, 0.99223809, 0.99253044, 0.99269123,\n",
       "        0.992662  , 0.99203344]),\n",
       " 'split1_test_score': array([0.99229656, 0.99250121, 0.99320285, 0.99267662, 0.99314438,\n",
       "        0.99327594, 0.99282279, 0.9929105 , 0.99292511, 0.99280817,\n",
       "        0.99276432, 0.99320285]),\n",
       " 'split2_test_score': array([0.98972387, 0.98940229, 0.98994314, 0.98900762, 0.98935844,\n",
       "        0.98972387, 0.98935844, 0.99023549, 0.98969464, 0.98891991,\n",
       "        0.98934382, 0.99057169]),\n",
       " 'split3_test_score': array([0.98744014, 0.98689661, 0.98647061, 0.98795429, 0.98780739,\n",
       "        0.98733731, 0.98721979, 0.98714634, 0.98792491, 0.98839498,\n",
       "        0.98744014, 0.98777801]),\n",
       " 'split4_test_score': array([0.98756744, 0.98714227, 0.98668778, 0.98827117, 0.98794863,\n",
       "        0.98846176, 0.99057295, 0.9889016 , 0.98841778, 0.98951736,\n",
       "        0.98912151, 0.9884471 ]),\n",
       " 'mean_test_score': array([0.98960472, 0.98935836, 0.98945707, 0.99011726, 0.99006723,\n",
       "        0.9902454 , 0.99053889, 0.9902864 , 0.99029858, 0.99046633,\n",
       "        0.99026636, 0.99040662]),\n",
       " 'std_test_score': array([0.00189898, 0.00214821, 0.00257594, 0.00211747, 0.00217288,\n",
       "        0.00227415, 0.00211597, 0.00212015, 0.00206961, 0.00189826,\n",
       "        0.00210372, 0.00206117]),\n",
       " 'rank_test_score': array([10, 12, 11,  8,  9,  7,  1,  5,  4,  2,  6,  3], dtype=int32)}"
      ]
     },
     "execution_count": 43,
     "metadata": {},
     "output_type": "execute_result"
    }
   ],
   "source": [
    "gsearch1.cv_results_"
   ]
  },
  {
   "cell_type": "code",
   "execution_count": 44,
   "metadata": {},
   "outputs": [
    {
     "data": {
      "text/plain": [
       "{'max_depth': 7, 'min_child_weight': 1}"
      ]
     },
     "execution_count": 44,
     "metadata": {},
     "output_type": "execute_result"
    }
   ],
   "source": [
    "gsearch1.best_params_ "
   ]
  },
  {
   "cell_type": "code",
   "execution_count": 45,
   "metadata": {},
   "outputs": [
    {
     "data": {
      "text/plain": [
       "0.9905388881286072"
      ]
     },
     "execution_count": 45,
     "metadata": {},
     "output_type": "execute_result"
    }
   ],
   "source": [
    "gsearch1.best_score_"
   ]
  },
  {
   "cell_type": "markdown",
   "metadata": {},
   "source": [
    "### It looks like using those parameters, we are going to face an overfitting. Hence, we will contiue to use existing hyperparameters."
   ]
  },
  {
   "cell_type": "markdown",
   "metadata": {},
   "source": [
    "## Check Classification Report Again"
   ]
  },
  {
   "cell_type": "code",
   "execution_count": 41,
   "metadata": {},
   "outputs": [
    {
     "name": "stdout",
     "output_type": "stream",
     "text": [
      "              precision    recall  f1-score   support\n",
      "\n",
      "           0     0.9459    0.9699    0.9578       830\n",
      "           1     0.9478    0.9080    0.9275       500\n",
      "\n",
      "    accuracy                         0.9466      1330\n",
      "   macro avg     0.9469    0.9389    0.9426      1330\n",
      "weighted avg     0.9466    0.9466    0.9464      1330\n",
      "\n"
     ]
    }
   ],
   "source": [
    "print(classification_report(y_test, XGBpred, digits=4))"
   ]
  },
  {
   "cell_type": "markdown",
   "metadata": {},
   "source": [
    "## Checking the precision, recall and f1 scores of the chosen model, Both \"Approved\" and \"Rejected\" loans have been successfully predicted. But those results should be proved by much more data, and model should be rerained on a bigger dataset."
   ]
  },
  {
   "cell_type": "code",
   "execution_count": null,
   "metadata": {},
   "outputs": [],
   "source": []
  }
 ],
 "metadata": {
  "colab": {
   "provenance": []
  },
  "kernelspec": {
   "display_name": "Python 3 (ipykernel)",
   "language": "python",
   "name": "python3"
  },
  "language_info": {
   "codemirror_mode": {
    "name": "ipython",
    "version": 3
   },
   "file_extension": ".py",
   "mimetype": "text/x-python",
   "name": "python",
   "nbconvert_exporter": "python",
   "pygments_lexer": "ipython3",
   "version": "3.9.7"
  }
 },
 "nbformat": 4,
 "nbformat_minor": 1
}
